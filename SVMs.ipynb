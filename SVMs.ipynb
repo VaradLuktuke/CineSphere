{
  "cells": [
    {
      "cell_type": "code",
      "execution_count": 1,
      "id": "50b5741e",
      "metadata": {
        "id": "50b5741e"
      },
      "outputs": [],
      "source": [
        "import nltk\n",
        "from sklearn import preprocessing\n",
        "import pandas as pd\n",
        "import sklearn\n",
        "import re\n",
        "from sklearn.feature_extraction.text import CountVectorizer, TfidfVectorizer\n",
        "from nltk.tokenize import word_tokenize\n",
        "from nltk.probability import FreqDist\n",
        "import matplotlib.pyplot as plt\n",
        "from nltk.corpus import stopwords\n",
        "## For Stemming\n",
        "from nltk.tokenize import sent_tokenize, word_tokenize\n",
        "import os\n",
        "from sklearn.model_selection import train_test_split, GridSearchCV\n",
        "import random as rd\n",
        "from sklearn.naive_bayes import MultinomialNB\n",
        "from sklearn.metrics import confusion_matrix\n",
        "from sklearn.naive_bayes import BernoulliNB\n",
        "from sklearn.tree import DecisionTreeClassifier\n",
        "from sklearn import tree\n",
        "## conda install python-graphviz\n",
        "## restart kernel (click the little red x next to the Console)\n",
        "import graphviz\n",
        "from sklearn.metrics import confusion_matrix\n",
        "import numpy as np\n",
        "import matplotlib.pyplot as plt\n",
        "from sklearn.tree import DecisionTreeClassifier, plot_tree\n",
        "from sklearn.svm import LinearSVC\n",
        "from sklearn.decomposition import PCA\n",
        "#from mpl_toolkits.mplot3d import Axes3D\n",
        "from sklearn.metrics import confusion_matrix\n",
        "\n",
        "from sklearn.tree import export_graphviz\n",
        "#from sklearn.externals.six import StringIO\n",
        "from IPython.display import Image\n",
        "## conda install pydotplus\n",
        "import pydotplus\n",
        "from sklearn.ensemble import RandomForestClassifier\n",
        "from sklearn.datasets import make_classification\n",
        "\n",
        "#from nltk.stem import WordNetLemmatizer\n",
        "#LEMMER = WordNetLemmatizer()\n",
        "\n",
        "from nltk.stem.porter import PorterStemmer\n",
        "\n",
        "import string\n",
        "import numpy as np\n",
        "import seaborn as sns"
      ]
    },
    {
      "cell_type": "code",
      "execution_count": 2,
      "id": "2f40ef87",
      "metadata": {
        "id": "2f40ef87"
      },
      "outputs": [],
      "source": [
        "df = pd.read_csv('/content/CleanedData.csv', index_col = 0)"
      ]
    },
    {
      "cell_type": "code",
      "execution_count": 4,
      "id": "9283f61e",
      "metadata": {
        "colab": {
          "base_uri": "https://localhost:8080/",
          "height": 1000
        },
        "id": "9283f61e",
        "outputId": "5bab7924-87cd-4a89-e1d4-6606fa123b9f"
      },
      "outputs": [
        {
          "output_type": "execute_result",
          "data": {
            "text/plain": [
              "       id                                     title original_language  \\\n",
              "0   76600                  Avatar: The Way of Water                en   \n",
              "1    9552                              The Exorcist                en   \n",
              "2     155                           The Dark Knight                en   \n",
              "3  157336                              Interstellar                en   \n",
              "4      11                                 Star Wars                en   \n",
              "5    1726                                  Iron Man                en   \n",
              "6     671  Harry Potter and the Philosopher's Stone                en   \n",
              "7     238                             The Godfather                en   \n",
              "8   27205                                 Inception                en   \n",
              "9   19995                                    Avatar                en   \n",
              "\n",
              "                                            overview  \\\n",
              "0  Set more than a decade after the events of the...   \n",
              "1  12-year-old Regan MacNeil begins to adapt an e...   \n",
              "2  Batman raises the stakes in his war on crime. ...   \n",
              "3  The adventures of a group of explorers who mak...   \n",
              "4  Princess Leia is captured and held hostage by ...   \n",
              "5  After being held captive in an Afghan cave, bi...   \n",
              "6  Harry Potter has lived under the stairs at his...   \n",
              "7  Spanning the years 1945 to 1955, a chronicle o...   \n",
              "8  Cobb, a skilled thief who commits corporate es...   \n",
              "9  In the 22nd century, a paraplegic Marine is di...   \n",
              "\n",
              "                                              genres  popularity release_date  \\\n",
              "0         ['Science Fiction', 'Adventure', 'Action']     359.169   2022-12-14   \n",
              "1                                         ['Horror']     106.478   1973-12-26   \n",
              "2           ['Drama', 'Action', 'Crime', 'Thriller']      91.974   2008-07-16   \n",
              "3          ['Adventure', 'Drama', 'Science Fiction']     145.651   2014-11-05   \n",
              "4         ['Adventure', 'Action', 'Science Fiction']      75.106   1977-05-25   \n",
              "5         ['Action', 'Science Fiction', 'Adventure']      68.278   2008-04-30   \n",
              "6                           ['Adventure', 'Fantasy']     150.089   2001-11-16   \n",
              "7                                 ['Drama', 'Crime']     110.360   1972-03-14   \n",
              "8         ['Action', 'Science Fiction', 'Adventure']      84.382   2010-07-15   \n",
              "9  ['Action', 'Adventure', 'Fantasy', 'Science Fi...      97.801   2009-12-15   \n",
              "\n",
              "   vote_average  vote_count  year       belongs_to_collection        budget  \\\n",
              "0         7.657      9774.0  2022           Avatar Collection  3.374943e+07   \n",
              "1         7.700      7217.0  1973     The Exorcist Collection  8.000000e+06   \n",
              "2         8.512     30572.0  2008  The Dark Knight Collection  1.850000e+08   \n",
              "3         8.417     32503.0  2014                         NaN  1.650000e+08   \n",
              "4         8.204     19127.0  1977        Star Wars Collection  1.100000e+07   \n",
              "5         7.639     24852.0  2008         Iron Man Collection  1.400000e+08   \n",
              "6         7.916     25346.0  2001     Harry Potter Collection  1.250000e+08   \n",
              "7         8.706     18646.0  1972    The Godfather Collection  6.000000e+06   \n",
              "8         8.364     34456.0  2010                         NaN  1.600000e+08   \n",
              "9         7.573     29781.0  2009           Avatar Collection  2.370000e+08   \n",
              "\n",
              "                                production_companies  \\\n",
              "0  ['Twentieth Century Fox Film Corporation', 'Li...   \n",
              "1               ['Warner Bros.', 'Hoya Productions']   \n",
              "2  ['DC Comics', 'Legendary Pictures', 'Warner Br...   \n",
              "3  ['Paramount Pictures', 'Legendary Pictures', '...   \n",
              "4  ['Lucasfilm', 'Twentieth Century Fox Film Corp...   \n",
              "5           ['Paramount Pictures', 'Marvel Studios']   \n",
              "6  ['1492 Pictures', 'Warner Bros.', 'Heyday Films']   \n",
              "7       ['Paramount Pictures', 'Alfran Productions']   \n",
              "8  ['Legendary Pictures', 'Warner Bros.', 'Syncopy']   \n",
              "9  ['Ingenious Film Partners', 'Twentieth Century...   \n",
              "\n",
              "                                production_countries       revenue  runtime  \\\n",
              "0                       ['United States of America']  1.085076e+08    108.0   \n",
              "1                       ['United States of America']  4.413061e+08    122.0   \n",
              "2     ['United Kingdom', 'United States of America']  1.004558e+09    152.0   \n",
              "3  ['Canada', 'United States of America', 'United...  6.751200e+08    169.0   \n",
              "4                       ['United States of America']  7.753980e+08    121.0   \n",
              "5                       ['United States of America']  5.851742e+08    126.0   \n",
              "6     ['United Kingdom', 'United States of America']  9.764756e+08    152.0   \n",
              "7                       ['United States of America']  2.450664e+08    175.0   \n",
              "8     ['United Kingdom', 'United States of America']  8.255328e+08    148.0   \n",
              "9     ['United States of America', 'United Kingdom']  2.787965e+09    162.0   \n",
              "\n",
              "   score  \n",
              "0   7.62  \n",
              "1   7.65  \n",
              "2   8.49  \n",
              "3   8.40  \n",
              "4   8.17  \n",
              "5   7.62  \n",
              "6   7.90  \n",
              "7   8.66  \n",
              "8   8.34  \n",
              "9   7.56  "
            ],
            "text/html": [
              "\n",
              "  <div id=\"df-286d9424-472a-4a52-9623-0261becae1bc\" class=\"colab-df-container\">\n",
              "    <div>\n",
              "<style scoped>\n",
              "    .dataframe tbody tr th:only-of-type {\n",
              "        vertical-align: middle;\n",
              "    }\n",
              "\n",
              "    .dataframe tbody tr th {\n",
              "        vertical-align: top;\n",
              "    }\n",
              "\n",
              "    .dataframe thead th {\n",
              "        text-align: right;\n",
              "    }\n",
              "</style>\n",
              "<table border=\"1\" class=\"dataframe\">\n",
              "  <thead>\n",
              "    <tr style=\"text-align: right;\">\n",
              "      <th></th>\n",
              "      <th>id</th>\n",
              "      <th>title</th>\n",
              "      <th>original_language</th>\n",
              "      <th>overview</th>\n",
              "      <th>genres</th>\n",
              "      <th>popularity</th>\n",
              "      <th>release_date</th>\n",
              "      <th>vote_average</th>\n",
              "      <th>vote_count</th>\n",
              "      <th>year</th>\n",
              "      <th>belongs_to_collection</th>\n",
              "      <th>budget</th>\n",
              "      <th>production_companies</th>\n",
              "      <th>production_countries</th>\n",
              "      <th>revenue</th>\n",
              "      <th>runtime</th>\n",
              "      <th>score</th>\n",
              "    </tr>\n",
              "  </thead>\n",
              "  <tbody>\n",
              "    <tr>\n",
              "      <th>0</th>\n",
              "      <td>76600</td>\n",
              "      <td>Avatar: The Way of Water</td>\n",
              "      <td>en</td>\n",
              "      <td>Set more than a decade after the events of the...</td>\n",
              "      <td>['Science Fiction', 'Adventure', 'Action']</td>\n",
              "      <td>359.169</td>\n",
              "      <td>2022-12-14</td>\n",
              "      <td>7.657</td>\n",
              "      <td>9774.0</td>\n",
              "      <td>2022</td>\n",
              "      <td>Avatar Collection</td>\n",
              "      <td>3.374943e+07</td>\n",
              "      <td>['Twentieth Century Fox Film Corporation', 'Li...</td>\n",
              "      <td>['United States of America']</td>\n",
              "      <td>1.085076e+08</td>\n",
              "      <td>108.0</td>\n",
              "      <td>7.62</td>\n",
              "    </tr>\n",
              "    <tr>\n",
              "      <th>1</th>\n",
              "      <td>9552</td>\n",
              "      <td>The Exorcist</td>\n",
              "      <td>en</td>\n",
              "      <td>12-year-old Regan MacNeil begins to adapt an e...</td>\n",
              "      <td>['Horror']</td>\n",
              "      <td>106.478</td>\n",
              "      <td>1973-12-26</td>\n",
              "      <td>7.700</td>\n",
              "      <td>7217.0</td>\n",
              "      <td>1973</td>\n",
              "      <td>The Exorcist Collection</td>\n",
              "      <td>8.000000e+06</td>\n",
              "      <td>['Warner Bros.', 'Hoya Productions']</td>\n",
              "      <td>['United States of America']</td>\n",
              "      <td>4.413061e+08</td>\n",
              "      <td>122.0</td>\n",
              "      <td>7.65</td>\n",
              "    </tr>\n",
              "    <tr>\n",
              "      <th>2</th>\n",
              "      <td>155</td>\n",
              "      <td>The Dark Knight</td>\n",
              "      <td>en</td>\n",
              "      <td>Batman raises the stakes in his war on crime. ...</td>\n",
              "      <td>['Drama', 'Action', 'Crime', 'Thriller']</td>\n",
              "      <td>91.974</td>\n",
              "      <td>2008-07-16</td>\n",
              "      <td>8.512</td>\n",
              "      <td>30572.0</td>\n",
              "      <td>2008</td>\n",
              "      <td>The Dark Knight Collection</td>\n",
              "      <td>1.850000e+08</td>\n",
              "      <td>['DC Comics', 'Legendary Pictures', 'Warner Br...</td>\n",
              "      <td>['United Kingdom', 'United States of America']</td>\n",
              "      <td>1.004558e+09</td>\n",
              "      <td>152.0</td>\n",
              "      <td>8.49</td>\n",
              "    </tr>\n",
              "    <tr>\n",
              "      <th>3</th>\n",
              "      <td>157336</td>\n",
              "      <td>Interstellar</td>\n",
              "      <td>en</td>\n",
              "      <td>The adventures of a group of explorers who mak...</td>\n",
              "      <td>['Adventure', 'Drama', 'Science Fiction']</td>\n",
              "      <td>145.651</td>\n",
              "      <td>2014-11-05</td>\n",
              "      <td>8.417</td>\n",
              "      <td>32503.0</td>\n",
              "      <td>2014</td>\n",
              "      <td>NaN</td>\n",
              "      <td>1.650000e+08</td>\n",
              "      <td>['Paramount Pictures', 'Legendary Pictures', '...</td>\n",
              "      <td>['Canada', 'United States of America', 'United...</td>\n",
              "      <td>6.751200e+08</td>\n",
              "      <td>169.0</td>\n",
              "      <td>8.40</td>\n",
              "    </tr>\n",
              "    <tr>\n",
              "      <th>4</th>\n",
              "      <td>11</td>\n",
              "      <td>Star Wars</td>\n",
              "      <td>en</td>\n",
              "      <td>Princess Leia is captured and held hostage by ...</td>\n",
              "      <td>['Adventure', 'Action', 'Science Fiction']</td>\n",
              "      <td>75.106</td>\n",
              "      <td>1977-05-25</td>\n",
              "      <td>8.204</td>\n",
              "      <td>19127.0</td>\n",
              "      <td>1977</td>\n",
              "      <td>Star Wars Collection</td>\n",
              "      <td>1.100000e+07</td>\n",
              "      <td>['Lucasfilm', 'Twentieth Century Fox Film Corp...</td>\n",
              "      <td>['United States of America']</td>\n",
              "      <td>7.753980e+08</td>\n",
              "      <td>121.0</td>\n",
              "      <td>8.17</td>\n",
              "    </tr>\n",
              "    <tr>\n",
              "      <th>5</th>\n",
              "      <td>1726</td>\n",
              "      <td>Iron Man</td>\n",
              "      <td>en</td>\n",
              "      <td>After being held captive in an Afghan cave, bi...</td>\n",
              "      <td>['Action', 'Science Fiction', 'Adventure']</td>\n",
              "      <td>68.278</td>\n",
              "      <td>2008-04-30</td>\n",
              "      <td>7.639</td>\n",
              "      <td>24852.0</td>\n",
              "      <td>2008</td>\n",
              "      <td>Iron Man Collection</td>\n",
              "      <td>1.400000e+08</td>\n",
              "      <td>['Paramount Pictures', 'Marvel Studios']</td>\n",
              "      <td>['United States of America']</td>\n",
              "      <td>5.851742e+08</td>\n",
              "      <td>126.0</td>\n",
              "      <td>7.62</td>\n",
              "    </tr>\n",
              "    <tr>\n",
              "      <th>6</th>\n",
              "      <td>671</td>\n",
              "      <td>Harry Potter and the Philosopher's Stone</td>\n",
              "      <td>en</td>\n",
              "      <td>Harry Potter has lived under the stairs at his...</td>\n",
              "      <td>['Adventure', 'Fantasy']</td>\n",
              "      <td>150.089</td>\n",
              "      <td>2001-11-16</td>\n",
              "      <td>7.916</td>\n",
              "      <td>25346.0</td>\n",
              "      <td>2001</td>\n",
              "      <td>Harry Potter Collection</td>\n",
              "      <td>1.250000e+08</td>\n",
              "      <td>['1492 Pictures', 'Warner Bros.', 'Heyday Films']</td>\n",
              "      <td>['United Kingdom', 'United States of America']</td>\n",
              "      <td>9.764756e+08</td>\n",
              "      <td>152.0</td>\n",
              "      <td>7.90</td>\n",
              "    </tr>\n",
              "    <tr>\n",
              "      <th>7</th>\n",
              "      <td>238</td>\n",
              "      <td>The Godfather</td>\n",
              "      <td>en</td>\n",
              "      <td>Spanning the years 1945 to 1955, a chronicle o...</td>\n",
              "      <td>['Drama', 'Crime']</td>\n",
              "      <td>110.360</td>\n",
              "      <td>1972-03-14</td>\n",
              "      <td>8.706</td>\n",
              "      <td>18646.0</td>\n",
              "      <td>1972</td>\n",
              "      <td>The Godfather Collection</td>\n",
              "      <td>6.000000e+06</td>\n",
              "      <td>['Paramount Pictures', 'Alfran Productions']</td>\n",
              "      <td>['United States of America']</td>\n",
              "      <td>2.450664e+08</td>\n",
              "      <td>175.0</td>\n",
              "      <td>8.66</td>\n",
              "    </tr>\n",
              "    <tr>\n",
              "      <th>8</th>\n",
              "      <td>27205</td>\n",
              "      <td>Inception</td>\n",
              "      <td>en</td>\n",
              "      <td>Cobb, a skilled thief who commits corporate es...</td>\n",
              "      <td>['Action', 'Science Fiction', 'Adventure']</td>\n",
              "      <td>84.382</td>\n",
              "      <td>2010-07-15</td>\n",
              "      <td>8.364</td>\n",
              "      <td>34456.0</td>\n",
              "      <td>2010</td>\n",
              "      <td>NaN</td>\n",
              "      <td>1.600000e+08</td>\n",
              "      <td>['Legendary Pictures', 'Warner Bros.', 'Syncopy']</td>\n",
              "      <td>['United Kingdom', 'United States of America']</td>\n",
              "      <td>8.255328e+08</td>\n",
              "      <td>148.0</td>\n",
              "      <td>8.34</td>\n",
              "    </tr>\n",
              "    <tr>\n",
              "      <th>9</th>\n",
              "      <td>19995</td>\n",
              "      <td>Avatar</td>\n",
              "      <td>en</td>\n",
              "      <td>In the 22nd century, a paraplegic Marine is di...</td>\n",
              "      <td>['Action', 'Adventure', 'Fantasy', 'Science Fi...</td>\n",
              "      <td>97.801</td>\n",
              "      <td>2009-12-15</td>\n",
              "      <td>7.573</td>\n",
              "      <td>29781.0</td>\n",
              "      <td>2009</td>\n",
              "      <td>Avatar Collection</td>\n",
              "      <td>2.370000e+08</td>\n",
              "      <td>['Ingenious Film Partners', 'Twentieth Century...</td>\n",
              "      <td>['United States of America', 'United Kingdom']</td>\n",
              "      <td>2.787965e+09</td>\n",
              "      <td>162.0</td>\n",
              "      <td>7.56</td>\n",
              "    </tr>\n",
              "  </tbody>\n",
              "</table>\n",
              "</div>\n",
              "    <div class=\"colab-df-buttons\">\n",
              "\n",
              "  <div class=\"colab-df-container\">\n",
              "    <button class=\"colab-df-convert\" onclick=\"convertToInteractive('df-286d9424-472a-4a52-9623-0261becae1bc')\"\n",
              "            title=\"Convert this dataframe to an interactive table.\"\n",
              "            style=\"display:none;\">\n",
              "\n",
              "  <svg xmlns=\"http://www.w3.org/2000/svg\" height=\"24px\" viewBox=\"0 -960 960 960\">\n",
              "    <path d=\"M120-120v-720h720v720H120Zm60-500h600v-160H180v160Zm220 220h160v-160H400v160Zm0 220h160v-160H400v160ZM180-400h160v-160H180v160Zm440 0h160v-160H620v160ZM180-180h160v-160H180v160Zm440 0h160v-160H620v160Z\"/>\n",
              "  </svg>\n",
              "    </button>\n",
              "\n",
              "  <style>\n",
              "    .colab-df-container {\n",
              "      display:flex;\n",
              "      gap: 12px;\n",
              "    }\n",
              "\n",
              "    .colab-df-convert {\n",
              "      background-color: #E8F0FE;\n",
              "      border: none;\n",
              "      border-radius: 50%;\n",
              "      cursor: pointer;\n",
              "      display: none;\n",
              "      fill: #1967D2;\n",
              "      height: 32px;\n",
              "      padding: 0 0 0 0;\n",
              "      width: 32px;\n",
              "    }\n",
              "\n",
              "    .colab-df-convert:hover {\n",
              "      background-color: #E2EBFA;\n",
              "      box-shadow: 0px 1px 2px rgba(60, 64, 67, 0.3), 0px 1px 3px 1px rgba(60, 64, 67, 0.15);\n",
              "      fill: #174EA6;\n",
              "    }\n",
              "\n",
              "    .colab-df-buttons div {\n",
              "      margin-bottom: 4px;\n",
              "    }\n",
              "\n",
              "    [theme=dark] .colab-df-convert {\n",
              "      background-color: #3B4455;\n",
              "      fill: #D2E3FC;\n",
              "    }\n",
              "\n",
              "    [theme=dark] .colab-df-convert:hover {\n",
              "      background-color: #434B5C;\n",
              "      box-shadow: 0px 1px 3px 1px rgba(0, 0, 0, 0.15);\n",
              "      filter: drop-shadow(0px 1px 2px rgba(0, 0, 0, 0.3));\n",
              "      fill: #FFFFFF;\n",
              "    }\n",
              "  </style>\n",
              "\n",
              "    <script>\n",
              "      const buttonEl =\n",
              "        document.querySelector('#df-286d9424-472a-4a52-9623-0261becae1bc button.colab-df-convert');\n",
              "      buttonEl.style.display =\n",
              "        google.colab.kernel.accessAllowed ? 'block' : 'none';\n",
              "\n",
              "      async function convertToInteractive(key) {\n",
              "        const element = document.querySelector('#df-286d9424-472a-4a52-9623-0261becae1bc');\n",
              "        const dataTable =\n",
              "          await google.colab.kernel.invokeFunction('convertToInteractive',\n",
              "                                                    [key], {});\n",
              "        if (!dataTable) return;\n",
              "\n",
              "        const docLinkHtml = 'Like what you see? Visit the ' +\n",
              "          '<a target=\"_blank\" href=https://colab.research.google.com/notebooks/data_table.ipynb>data table notebook</a>'\n",
              "          + ' to learn more about interactive tables.';\n",
              "        element.innerHTML = '';\n",
              "        dataTable['output_type'] = 'display_data';\n",
              "        await google.colab.output.renderOutput(dataTable, element);\n",
              "        const docLink = document.createElement('div');\n",
              "        docLink.innerHTML = docLinkHtml;\n",
              "        element.appendChild(docLink);\n",
              "      }\n",
              "    </script>\n",
              "  </div>\n",
              "\n",
              "\n",
              "<div id=\"df-0049c4f6-622b-411c-9e48-138f4f7ff8b1\">\n",
              "  <button class=\"colab-df-quickchart\" onclick=\"quickchart('df-0049c4f6-622b-411c-9e48-138f4f7ff8b1')\"\n",
              "            title=\"Suggest charts\"\n",
              "            style=\"display:none;\">\n",
              "\n",
              "<svg xmlns=\"http://www.w3.org/2000/svg\" height=\"24px\"viewBox=\"0 0 24 24\"\n",
              "     width=\"24px\">\n",
              "    <g>\n",
              "        <path d=\"M19 3H5c-1.1 0-2 .9-2 2v14c0 1.1.9 2 2 2h14c1.1 0 2-.9 2-2V5c0-1.1-.9-2-2-2zM9 17H7v-7h2v7zm4 0h-2V7h2v10zm4 0h-2v-4h2v4z\"/>\n",
              "    </g>\n",
              "</svg>\n",
              "  </button>\n",
              "\n",
              "<style>\n",
              "  .colab-df-quickchart {\n",
              "      --bg-color: #E8F0FE;\n",
              "      --fill-color: #1967D2;\n",
              "      --hover-bg-color: #E2EBFA;\n",
              "      --hover-fill-color: #174EA6;\n",
              "      --disabled-fill-color: #AAA;\n",
              "      --disabled-bg-color: #DDD;\n",
              "  }\n",
              "\n",
              "  [theme=dark] .colab-df-quickchart {\n",
              "      --bg-color: #3B4455;\n",
              "      --fill-color: #D2E3FC;\n",
              "      --hover-bg-color: #434B5C;\n",
              "      --hover-fill-color: #FFFFFF;\n",
              "      --disabled-bg-color: #3B4455;\n",
              "      --disabled-fill-color: #666;\n",
              "  }\n",
              "\n",
              "  .colab-df-quickchart {\n",
              "    background-color: var(--bg-color);\n",
              "    border: none;\n",
              "    border-radius: 50%;\n",
              "    cursor: pointer;\n",
              "    display: none;\n",
              "    fill: var(--fill-color);\n",
              "    height: 32px;\n",
              "    padding: 0;\n",
              "    width: 32px;\n",
              "  }\n",
              "\n",
              "  .colab-df-quickchart:hover {\n",
              "    background-color: var(--hover-bg-color);\n",
              "    box-shadow: 0 1px 2px rgba(60, 64, 67, 0.3), 0 1px 3px 1px rgba(60, 64, 67, 0.15);\n",
              "    fill: var(--button-hover-fill-color);\n",
              "  }\n",
              "\n",
              "  .colab-df-quickchart-complete:disabled,\n",
              "  .colab-df-quickchart-complete:disabled:hover {\n",
              "    background-color: var(--disabled-bg-color);\n",
              "    fill: var(--disabled-fill-color);\n",
              "    box-shadow: none;\n",
              "  }\n",
              "\n",
              "  .colab-df-spinner {\n",
              "    border: 2px solid var(--fill-color);\n",
              "    border-color: transparent;\n",
              "    border-bottom-color: var(--fill-color);\n",
              "    animation:\n",
              "      spin 1s steps(1) infinite;\n",
              "  }\n",
              "\n",
              "  @keyframes spin {\n",
              "    0% {\n",
              "      border-color: transparent;\n",
              "      border-bottom-color: var(--fill-color);\n",
              "      border-left-color: var(--fill-color);\n",
              "    }\n",
              "    20% {\n",
              "      border-color: transparent;\n",
              "      border-left-color: var(--fill-color);\n",
              "      border-top-color: var(--fill-color);\n",
              "    }\n",
              "    30% {\n",
              "      border-color: transparent;\n",
              "      border-left-color: var(--fill-color);\n",
              "      border-top-color: var(--fill-color);\n",
              "      border-right-color: var(--fill-color);\n",
              "    }\n",
              "    40% {\n",
              "      border-color: transparent;\n",
              "      border-right-color: var(--fill-color);\n",
              "      border-top-color: var(--fill-color);\n",
              "    }\n",
              "    60% {\n",
              "      border-color: transparent;\n",
              "      border-right-color: var(--fill-color);\n",
              "    }\n",
              "    80% {\n",
              "      border-color: transparent;\n",
              "      border-right-color: var(--fill-color);\n",
              "      border-bottom-color: var(--fill-color);\n",
              "    }\n",
              "    90% {\n",
              "      border-color: transparent;\n",
              "      border-bottom-color: var(--fill-color);\n",
              "    }\n",
              "  }\n",
              "</style>\n",
              "\n",
              "  <script>\n",
              "    async function quickchart(key) {\n",
              "      const quickchartButtonEl =\n",
              "        document.querySelector('#' + key + ' button');\n",
              "      quickchartButtonEl.disabled = true;  // To prevent multiple clicks.\n",
              "      quickchartButtonEl.classList.add('colab-df-spinner');\n",
              "      try {\n",
              "        const charts = await google.colab.kernel.invokeFunction(\n",
              "            'suggestCharts', [key], {});\n",
              "      } catch (error) {\n",
              "        console.error('Error during call to suggestCharts:', error);\n",
              "      }\n",
              "      quickchartButtonEl.classList.remove('colab-df-spinner');\n",
              "      quickchartButtonEl.classList.add('colab-df-quickchart-complete');\n",
              "    }\n",
              "    (() => {\n",
              "      let quickchartButtonEl =\n",
              "        document.querySelector('#df-0049c4f6-622b-411c-9e48-138f4f7ff8b1 button');\n",
              "      quickchartButtonEl.style.display =\n",
              "        google.colab.kernel.accessAllowed ? 'block' : 'none';\n",
              "    })();\n",
              "  </script>\n",
              "</div>\n",
              "    </div>\n",
              "  </div>\n"
            ]
          },
          "metadata": {},
          "execution_count": 4
        }
      ],
      "source": [
        "df.head(10)"
      ]
    },
    {
      "cell_type": "code",
      "execution_count": 5,
      "id": "be653838",
      "metadata": {
        "colab": {
          "base_uri": "https://localhost:8080/",
          "height": 466
        },
        "id": "be653838",
        "outputId": "e2516880-7f35-4168-fa4e-be10a4e6d074"
      },
      "outputs": [
        {
          "output_type": "execute_result",
          "data": {
            "text/plain": [
              "<Axes: xlabel='score', ylabel='Density'>"
            ]
          },
          "metadata": {},
          "execution_count": 5
        },
        {
          "output_type": "display_data",
          "data": {
            "text/plain": [
              "<Figure size 640x480 with 1 Axes>"
            ],
            "image/png": "[encoded data removed]"
          },
          "metadata": {}
        }
      ],
      "source": [
        "sns.kdeplot(data = df, x = 'score')"
      ]
    },
    {
      "cell_type": "code",
      "execution_count": 6,
      "id": "69dc6dff",
      "metadata": {
        "colab": {
          "base_uri": "https://localhost:8080/"
        },
        "id": "69dc6dff",
        "outputId": "8525a4a7-a295-4148-8da5-5ee6fb6c0cb3"
      },
      "outputs": [
        {
          "output_type": "execute_result",
          "data": {
            "text/plain": [
              "count    4183.000000\n",
              "mean        6.721896\n",
              "std         0.625852\n",
              "min         3.550000\n",
              "25%         6.300000\n",
              "50%         6.700000\n",
              "75%         7.160000\n",
              "max         8.670000\n",
              "Name: score, dtype: float64"
            ]
          },
          "metadata": {},
          "execution_count": 6
        }
      ],
      "source": [
        "df['score'].describe()"
      ]
    },
    {
      "cell_type": "code",
      "execution_count": 7,
      "id": "eb832627",
      "metadata": {
        "id": "eb832627"
      },
      "outputs": [],
      "source": [
        "df_num = df[['popularity', 'budget', 'revenue', 'runtime', 'score']]"
      ]
    },
    {
      "cell_type": "code",
      "execution_count": 8,
      "id": "53295a68",
      "metadata": {
        "colab": {
          "base_uri": "https://localhost:8080/",
          "height": 363
        },
        "id": "53295a68",
        "outputId": "5016e697-abaf-4994-b68d-3249cbb7befc"
      },
      "outputs": [
        {
          "output_type": "execute_result",
          "data": {
            "text/plain": [
              "   popularity        budget       revenue  runtime  score\n",
              "0     359.169  3.374943e+07  1.085076e+08    108.0   7.62\n",
              "1     106.478  8.000000e+06  4.413061e+08    122.0   7.65\n",
              "2      91.974  1.850000e+08  1.004558e+09    152.0   8.49\n",
              "3     145.651  1.650000e+08  6.751200e+08    169.0   8.40\n",
              "4      75.106  1.100000e+07  7.753980e+08    121.0   8.17\n",
              "5      68.278  1.400000e+08  5.851742e+08    126.0   7.62\n",
              "6     150.089  1.250000e+08  9.764756e+08    152.0   7.90\n",
              "7     110.360  6.000000e+06  2.450664e+08    175.0   8.66\n",
              "8      84.382  1.600000e+08  8.255328e+08    148.0   8.34\n",
              "9      97.801  2.370000e+08  2.787965e+09    162.0   7.56"
            ],
            "text/html": [
              "\n",
              "  <div id=\"df-7d378228-bf27-4d3f-99aa-e68c8c5c2b65\" class=\"colab-df-container\">\n",
              "    <div>\n",
              "<style scoped>\n",
              "    .dataframe tbody tr th:only-of-type {\n",
              "        vertical-align: middle;\n",
              "    }\n",
              "\n",
              "    .dataframe tbody tr th {\n",
              "        vertical-align: top;\n",
              "    }\n",
              "\n",
              "    .dataframe thead th {\n",
              "        text-align: right;\n",
              "    }\n",
              "</style>\n",
              "<table border=\"1\" class=\"dataframe\">\n",
              "  <thead>\n",
              "    <tr style=\"text-align: right;\">\n",
              "      <th></th>\n",
              "      <th>popularity</th>\n",
              "      <th>budget</th>\n",
              "      <th>revenue</th>\n",
              "      <th>runtime</th>\n",
              "      <th>score</th>\n",
              "    </tr>\n",
              "  </thead>\n",
              "  <tbody>\n",
              "    <tr>\n",
              "      <th>0</th>\n",
              "      <td>359.169</td>\n",
              "      <td>3.374943e+07</td>\n",
              "      <td>1.085076e+08</td>\n",
              "      <td>108.0</td>\n",
              "      <td>7.62</td>\n",
              "    </tr>\n",
              "    <tr>\n",
              "      <th>1</th>\n",
              "      <td>106.478</td>\n",
              "      <td>8.000000e+06</td>\n",
              "      <td>4.413061e+08</td>\n",
              "      <td>122.0</td>\n",
              "      <td>7.65</td>\n",
              "    </tr>\n",
              "    <tr>\n",
              "      <th>2</th>\n",
              "      <td>91.974</td>\n",
              "      <td>1.850000e+08</td>\n",
              "      <td>1.004558e+09</td>\n",
              "      <td>152.0</td>\n",
              "      <td>8.49</td>\n",
              "    </tr>\n",
              "    <tr>\n",
              "      <th>3</th>\n",
              "      <td>145.651</td>\n",
              "      <td>1.650000e+08</td>\n",
              "      <td>6.751200e+08</td>\n",
              "      <td>169.0</td>\n",
              "      <td>8.40</td>\n",
              "    </tr>\n",
              "    <tr>\n",
              "      <th>4</th>\n",
              "      <td>75.106</td>\n",
              "      <td>1.100000e+07</td>\n",
              "      <td>7.753980e+08</td>\n",
              "      <td>121.0</td>\n",
              "      <td>8.17</td>\n",
              "    </tr>\n",
              "    <tr>\n",
              "      <th>5</th>\n",
              "      <td>68.278</td>\n",
              "      <td>1.400000e+08</td>\n",
              "      <td>5.851742e+08</td>\n",
              "      <td>126.0</td>\n",
              "      <td>7.62</td>\n",
              "    </tr>\n",
              "    <tr>\n",
              "      <th>6</th>\n",
              "      <td>150.089</td>\n",
              "      <td>1.250000e+08</td>\n",
              "      <td>9.764756e+08</td>\n",
              "      <td>152.0</td>\n",
              "      <td>7.90</td>\n",
              "    </tr>\n",
              "    <tr>\n",
              "      <th>7</th>\n",
              "      <td>110.360</td>\n",
              "      <td>6.000000e+06</td>\n",
              "      <td>2.450664e+08</td>\n",
              "      <td>175.0</td>\n",
              "      <td>8.66</td>\n",
              "    </tr>\n",
              "    <tr>\n",
              "      <th>8</th>\n",
              "      <td>84.382</td>\n",
              "      <td>1.600000e+08</td>\n",
              "      <td>8.255328e+08</td>\n",
              "      <td>148.0</td>\n",
              "      <td>8.34</td>\n",
              "    </tr>\n",
              "    <tr>\n",
              "      <th>9</th>\n",
              "      <td>97.801</td>\n",
              "      <td>2.370000e+08</td>\n",
              "      <td>2.787965e+09</td>\n",
              "      <td>162.0</td>\n",
              "      <td>7.56</td>\n",
              "    </tr>\n",
              "  </tbody>\n",
              "</table>\n",
              "</div>\n",
              "    <div class=\"colab-df-buttons\">\n",
              "\n",
              "  <div class=\"colab-df-container\">\n",
              "    <button class=\"colab-df-convert\" onclick=\"convertToInteractive('df-7d378228-bf27-4d3f-99aa-e68c8c5c2b65')\"\n",
              "            title=\"Convert this dataframe to an interactive table.\"\n",
              "            style=\"display:none;\">\n",
              "\n",
              "  <svg xmlns=\"http://www.w3.org/2000/svg\" height=\"24px\" viewBox=\"0 -960 960 960\">\n",
              "    <path d=\"M120-120v-720h720v720H120Zm60-500h600v-160H180v160Zm220 220h160v-160H400v160Zm0 220h160v-160H400v160ZM180-400h160v-160H180v160Zm440 0h160v-160H620v160ZM180-180h160v-160H180v160Zm440 0h160v-160H620v160Z\"/>\n",
              "  </svg>\n",
              "    </button>\n",
              "\n",
              "  <style>\n",
              "    .colab-df-container {\n",
              "      display:flex;\n",
              "      gap: 12px;\n",
              "    }\n",
              "\n",
              "    .colab-df-convert {\n",
              "      background-color: #E8F0FE;\n",
              "      border: none;\n",
              "      border-radius: 50%;\n",
              "      cursor: pointer;\n",
              "      display: none;\n",
              "      fill: #1967D2;\n",
              "      height: 32px;\n",
              "      padding: 0 0 0 0;\n",
              "      width: 32px;\n",
              "    }\n",
              "\n",
              "    .colab-df-convert:hover {\n",
              "      background-color: #E2EBFA;\n",
              "      box-shadow: 0px 1px 2px rgba(60, 64, 67, 0.3), 0px 1px 3px 1px rgba(60, 64, 67, 0.15);\n",
              "      fill: #174EA6;\n",
              "    }\n",
              "\n",
              "    .colab-df-buttons div {\n",
              "      margin-bottom: 4px;\n",
              "    }\n",
              "\n",
              "    [theme=dark] .colab-df-convert {\n",
              "      background-color: #3B4455;\n",
              "      fill: #D2E3FC;\n",
              "    }\n",
              "\n",
              "    [theme=dark] .colab-df-convert:hover {\n",
              "      background-color: #434B5C;\n",
              "      box-shadow: 0px 1px 3px 1px rgba(0, 0, 0, 0.15);\n",
              "      filter: drop-shadow(0px 1px 2px rgba(0, 0, 0, 0.3));\n",
              "      fill: #FFFFFF;\n",
              "    }\n",
              "  </style>\n",
              "\n",
              "    <script>\n",
              "      const buttonEl =\n",
              "        document.querySelector('#df-7d378228-bf27-4d3f-99aa-e68c8c5c2b65 button.colab-df-convert');\n",
              "      buttonEl.style.display =\n",
              "        google.colab.kernel.accessAllowed ? 'block' : 'none';\n",
              "\n",
              "      async function convertToInteractive(key) {\n",
              "        const element = document.querySelector('#df-7d378228-bf27-4d3f-99aa-e68c8c5c2b65');\n",
              "        const dataTable =\n",
              "          await google.colab.kernel.invokeFunction('convertToInteractive',\n",
              "                                                    [key], {});\n",
              "        if (!dataTable) return;\n",
              "\n",
              "        const docLinkHtml = 'Like what you see? Visit the ' +\n",
              "          '<a target=\"_blank\" href=https://colab.research.google.com/notebooks/data_table.ipynb>data table notebook</a>'\n",
              "          + ' to learn more about interactive tables.';\n",
              "        element.innerHTML = '';\n",
              "        dataTable['output_type'] = 'display_data';\n",
              "        await google.colab.output.renderOutput(dataTable, element);\n",
              "        const docLink = document.createElement('div');\n",
              "        docLink.innerHTML = docLinkHtml;\n",
              "        element.appendChild(docLink);\n",
              "      }\n",
              "    </script>\n",
              "  </div>\n",
              "\n",
              "\n",
              "<div id=\"df-1d846224-dc0a-4f99-80d4-5c8734e173b9\">\n",
              "  <button class=\"colab-df-quickchart\" onclick=\"quickchart('df-1d846224-dc0a-4f99-80d4-5c8734e173b9')\"\n",
              "            title=\"Suggest charts\"\n",
              "            style=\"display:none;\">\n",
              "\n",
              "<svg xmlns=\"http://www.w3.org/2000/svg\" height=\"24px\"viewBox=\"0 0 24 24\"\n",
              "     width=\"24px\">\n",
              "    <g>\n",
              "        <path d=\"M19 3H5c-1.1 0-2 .9-2 2v14c0 1.1.9 2 2 2h14c1.1 0 2-.9 2-2V5c0-1.1-.9-2-2-2zM9 17H7v-7h2v7zm4 0h-2V7h2v10zm4 0h-2v-4h2v4z\"/>\n",
              "    </g>\n",
              "</svg>\n",
              "  </button>\n",
              "\n",
              "<style>\n",
              "  .colab-df-quickchart {\n",
              "      --bg-color: #E8F0FE;\n",
              "      --fill-color: #1967D2;\n",
              "      --hover-bg-color: #E2EBFA;\n",
              "      --hover-fill-color: #174EA6;\n",
              "      --disabled-fill-color: #AAA;\n",
              "      --disabled-bg-color: #DDD;\n",
              "  }\n",
              "\n",
              "  [theme=dark] .colab-df-quickchart {\n",
              "      --bg-color: #3B4455;\n",
              "      --fill-color: #D2E3FC;\n",
              "      --hover-bg-color: #434B5C;\n",
              "      --hover-fill-color: #FFFFFF;\n",
              "      --disabled-bg-color: #3B4455;\n",
              "      --disabled-fill-color: #666;\n",
              "  }\n",
              "\n",
              "  .colab-df-quickchart {\n",
              "    background-color: var(--bg-color);\n",
              "    border: none;\n",
              "    border-radius: 50%;\n",
              "    cursor: pointer;\n",
              "    display: none;\n",
              "    fill: var(--fill-color);\n",
              "    height: 32px;\n",
              "    padding: 0;\n",
              "    width: 32px;\n",
              "  }\n",
              "\n",
              "  .colab-df-quickchart:hover {\n",
              "    background-color: var(--hover-bg-color);\n",
              "    box-shadow: 0 1px 2px rgba(60, 64, 67, 0.3), 0 1px 3px 1px rgba(60, 64, 67, 0.15);\n",
              "    fill: var(--button-hover-fill-color);\n",
              "  }\n",
              "\n",
              "  .colab-df-quickchart-complete:disabled,\n",
              "  .colab-df-quickchart-complete:disabled:hover {\n",
              "    background-color: var(--disabled-bg-color);\n",
              "    fill: var(--disabled-fill-color);\n",
              "    box-shadow: none;\n",
              "  }\n",
              "\n",
              "  .colab-df-spinner {\n",
              "    border: 2px solid var(--fill-color);\n",
              "    border-color: transparent;\n",
              "    border-bottom-color: var(--fill-color);\n",
              "    animation:\n",
              "      spin 1s steps(1) infinite;\n",
              "  }\n",
              "\n",
              "  @keyframes spin {\n",
              "    0% {\n",
              "      border-color: transparent;\n",
              "      border-bottom-color: var(--fill-color);\n",
              "      border-left-color: var(--fill-color);\n",
              "    }\n",
              "    20% {\n",
              "      border-color: transparent;\n",
              "      border-left-color: var(--fill-color);\n",
              "      border-top-color: var(--fill-color);\n",
              "    }\n",
              "    30% {\n",
              "      border-color: transparent;\n",
              "      border-left-color: var(--fill-color);\n",
              "      border-top-color: var(--fill-color);\n",
              "      border-right-color: var(--fill-color);\n",
              "    }\n",
              "    40% {\n",
              "      border-color: transparent;\n",
              "      border-right-color: var(--fill-color);\n",
              "      border-top-color: var(--fill-color);\n",
              "    }\n",
              "    60% {\n",
              "      border-color: transparent;\n",
              "      border-right-color: var(--fill-color);\n",
              "    }\n",
              "    80% {\n",
              "      border-color: transparent;\n",
              "      border-right-color: var(--fill-color);\n",
              "      border-bottom-color: var(--fill-color);\n",
              "    }\n",
              "    90% {\n",
              "      border-color: transparent;\n",
              "      border-bottom-color: var(--fill-color);\n",
              "    }\n",
              "  }\n",
              "</style>\n",
              "\n",
              "  <script>\n",
              "    async function quickchart(key) {\n",
              "      const quickchartButtonEl =\n",
              "        document.querySelector('#' + key + ' button');\n",
              "      quickchartButtonEl.disabled = true;  // To prevent multiple clicks.\n",
              "      quickchartButtonEl.classList.add('colab-df-spinner');\n",
              "      try {\n",
              "        const charts = await google.colab.kernel.invokeFunction(\n",
              "            'suggestCharts', [key], {});\n",
              "      } catch (error) {\n",
              "        console.error('Error during call to suggestCharts:', error);\n",
              "      }\n",
              "      quickchartButtonEl.classList.remove('colab-df-spinner');\n",
              "      quickchartButtonEl.classList.add('colab-df-quickchart-complete');\n",
              "    }\n",
              "    (() => {\n",
              "      let quickchartButtonEl =\n",
              "        document.querySelector('#df-1d846224-dc0a-4f99-80d4-5c8734e173b9 button');\n",
              "      quickchartButtonEl.style.display =\n",
              "        google.colab.kernel.accessAllowed ? 'block' : 'none';\n",
              "    })();\n",
              "  </script>\n",
              "</div>\n",
              "    </div>\n",
              "  </div>\n"
            ]
          },
          "metadata": {},
          "execution_count": 8
        }
      ],
      "source": [
        "df_num.head(10)"
      ]
    },
    {
      "cell_type": "code",
      "execution_count": 9,
      "id": "d1080bf0",
      "metadata": {
        "id": "d1080bf0"
      },
      "outputs": [],
      "source": [
        "def normalize(df, columns_to_normalize):\n",
        "    df_normalized = df.copy()\n",
        "\n",
        "    for column in columns_to_normalize:\n",
        "        min_value = df[column].min()\n",
        "        max_value = df[column].max()\n",
        "\n",
        "        df_normalized[column] = (100 * (df[column] - min_value) / (max_value - min_value)).round(2)\n",
        "\n",
        "    return df_normalized"
      ]
    },
    {
      "cell_type": "code",
      "execution_count": 10,
      "id": "7a5412a5",
      "metadata": {
        "id": "7a5412a5"
      },
      "outputs": [],
      "source": [
        "columns_to_normalize = ['popularity', 'budget', 'revenue', 'runtime']"
      ]
    },
    {
      "cell_type": "code",
      "execution_count": 11,
      "id": "47962535",
      "metadata": {
        "id": "47962535"
      },
      "outputs": [],
      "source": [
        "df_normalized = df_num.copy()\n",
        "df_normalized = normalize(df_normalized, columns_to_normalize)"
      ]
    },
    {
      "cell_type": "code",
      "execution_count": 12,
      "id": "247254b9",
      "metadata": {
        "colab": {
          "base_uri": "https://localhost:8080/",
          "height": 363
        },
        "id": "247254b9",
        "outputId": "14f1a04a-cf4d-4736-9e81-7131aacdeace"
      },
      "outputs": [
        {
          "output_type": "execute_result",
          "data": {
            "text/plain": [
              "   popularity  budget  revenue  runtime  score\n",
              "0      100.00    8.88     3.89    42.62   7.62\n",
              "1       29.53    2.11    15.83    48.36   7.65\n",
              "2       25.48   48.68    36.03    60.66   8.49\n",
              "3       40.45   43.42    24.22    67.62   8.40\n",
              "4       20.78    2.89    27.81    47.95   8.17\n",
              "5       18.87   36.84    20.99    50.00   7.62\n",
              "6       41.69   32.89    35.02    60.66   7.90\n",
              "7       30.61    1.58     8.79    70.08   8.66\n",
              "8       23.37   42.11    29.61    59.02   8.34\n",
              "9       27.11   62.37   100.00    64.75   7.56"
            ],
            "text/html": [
              "\n",
              "  <div id=\"df-64c4b2f3-47e8-4cab-a144-3870a654d81f\" class=\"colab-df-container\">\n",
              "    <div>\n",
              "<style scoped>\n",
              "    .dataframe tbody tr th:only-of-type {\n",
              "        vertical-align: middle;\n",
              "    }\n",
              "\n",
              "    .dataframe tbody tr th {\n",
              "        vertical-align: top;\n",
              "    }\n",
              "\n",
              "    .dataframe thead th {\n",
              "        text-align: right;\n",
              "    }\n",
              "</style>\n",
              "<table border=\"1\" class=\"dataframe\">\n",
              "  <thead>\n",
              "    <tr style=\"text-align: right;\">\n",
              "      <th></th>\n",
              "      <th>popularity</th>\n",
              "      <th>budget</th>\n",
              "      <th>revenue</th>\n",
              "      <th>runtime</th>\n",
              "      <th>score</th>\n",
              "    </tr>\n",
              "  </thead>\n",
              "  <tbody>\n",
              "    <tr>\n",
              "      <th>0</th>\n",
              "      <td>100.00</td>\n",
              "      <td>8.88</td>\n",
              "      <td>3.89</td>\n",
              "      <td>42.62</td>\n",
              "      <td>7.62</td>\n",
              "    </tr>\n",
              "    <tr>\n",
              "      <th>1</th>\n",
              "      <td>29.53</td>\n",
              "      <td>2.11</td>\n",
              "      <td>15.83</td>\n",
              "      <td>48.36</td>\n",
              "      <td>7.65</td>\n",
              "    </tr>\n",
              "    <tr>\n",
              "      <th>2</th>\n",
              "      <td>25.48</td>\n",
              "      <td>48.68</td>\n",
              "      <td>36.03</td>\n",
              "      <td>60.66</td>\n",
              "      <td>8.49</td>\n",
              "    </tr>\n",
              "    <tr>\n",
              "      <th>3</th>\n",
              "      <td>40.45</td>\n",
              "      <td>43.42</td>\n",
              "      <td>24.22</td>\n",
              "      <td>67.62</td>\n",
              "      <td>8.40</td>\n",
              "    </tr>\n",
              "    <tr>\n",
              "      <th>4</th>\n",
              "      <td>20.78</td>\n",
              "      <td>2.89</td>\n",
              "      <td>27.81</td>\n",
              "      <td>47.95</td>\n",
              "      <td>8.17</td>\n",
              "    </tr>\n",
              "    <tr>\n",
              "      <th>5</th>\n",
              "      <td>18.87</td>\n",
              "      <td>36.84</td>\n",
              "      <td>20.99</td>\n",
              "      <td>50.00</td>\n",
              "      <td>7.62</td>\n",
              "    </tr>\n",
              "    <tr>\n",
              "      <th>6</th>\n",
              "      <td>41.69</td>\n",
              "      <td>32.89</td>\n",
              "      <td>35.02</td>\n",
              "      <td>60.66</td>\n",
              "      <td>7.90</td>\n",
              "    </tr>\n",
              "    <tr>\n",
              "      <th>7</th>\n",
              "      <td>30.61</td>\n",
              "      <td>1.58</td>\n",
              "      <td>8.79</td>\n",
              "      <td>70.08</td>\n",
              "      <td>8.66</td>\n",
              "    </tr>\n",
              "    <tr>\n",
              "      <th>8</th>\n",
              "      <td>23.37</td>\n",
              "      <td>42.11</td>\n",
              "      <td>29.61</td>\n",
              "      <td>59.02</td>\n",
              "      <td>8.34</td>\n",
              "    </tr>\n",
              "    <tr>\n",
              "      <th>9</th>\n",
              "      <td>27.11</td>\n",
              "      <td>62.37</td>\n",
              "      <td>100.00</td>\n",
              "      <td>64.75</td>\n",
              "      <td>7.56</td>\n",
              "    </tr>\n",
              "  </tbody>\n",
              "</table>\n",
              "</div>\n",
              "    <div class=\"colab-df-buttons\">\n",
              "\n",
              "  <div class=\"colab-df-container\">\n",
              "    <button class=\"colab-df-convert\" onclick=\"convertToInteractive('df-64c4b2f3-47e8-4cab-a144-3870a654d81f')\"\n",
              "            title=\"Convert this dataframe to an interactive table.\"\n",
              "            style=\"display:none;\">\n",
              "\n",
              "  <svg xmlns=\"http://www.w3.org/2000/svg\" height=\"24px\" viewBox=\"0 -960 960 960\">\n",
              "    <path d=\"M120-120v-720h720v720H120Zm60-500h600v-160H180v160Zm220 220h160v-160H400v160Zm0 220h160v-160H400v160ZM180-400h160v-160H180v160Zm440 0h160v-160H620v160ZM180-180h160v-160H180v160Zm440 0h160v-160H620v160Z\"/>\n",
              "  </svg>\n",
              "    </button>\n",
              "\n",
              "  <style>\n",
              "    .colab-df-container {\n",
              "      display:flex;\n",
              "      gap: 12px;\n",
              "    }\n",
              "\n",
              "    .colab-df-convert {\n",
              "      background-color: #E8F0FE;\n",
              "      border: none;\n",
              "      border-radius: 50%;\n",
              "      cursor: pointer;\n",
              "      display: none;\n",
              "      fill: #1967D2;\n",
              "      height: 32px;\n",
              "      padding: 0 0 0 0;\n",
              "      width: 32px;\n",
              "    }\n",
              "\n",
              "    .colab-df-convert:hover {\n",
              "      background-color: #E2EBFA;\n",
              "      box-shadow: 0px 1px 2px rgba(60, 64, 67, 0.3), 0px 1px 3px 1px rgba(60, 64, 67, 0.15);\n",
              "      fill: #174EA6;\n",
              "    }\n",
              "\n",
              "    .colab-df-buttons div {\n",
              "      margin-bottom: 4px;\n",
              "    }\n",
              "\n",
              "    [theme=dark] .colab-df-convert {\n",
              "      background-color: #3B4455;\n",
              "      fill: #D2E3FC;\n",
              "    }\n",
              "\n",
              "    [theme=dark] .colab-df-convert:hover {\n",
              "      background-color: #434B5C;\n",
              "      box-shadow: 0px 1px 3px 1px rgba(0, 0, 0, 0.15);\n",
              "      filter: drop-shadow(0px 1px 2px rgba(0, 0, 0, 0.3));\n",
              "      fill: #FFFFFF;\n",
              "    }\n",
              "  </style>\n",
              "\n",
              "    <script>\n",
              "      const buttonEl =\n",
              "        document.querySelector('#df-64c4b2f3-47e8-4cab-a144-3870a654d81f button.colab-df-convert');\n",
              "      buttonEl.style.display =\n",
              "        google.colab.kernel.accessAllowed ? 'block' : 'none';\n",
              "\n",
              "      async function convertToInteractive(key) {\n",
              "        const element = document.querySelector('#df-64c4b2f3-47e8-4cab-a144-3870a654d81f');\n",
              "        const dataTable =\n",
              "          await google.colab.kernel.invokeFunction('convertToInteractive',\n",
              "                                                    [key], {});\n",
              "        if (!dataTable) return;\n",
              "\n",
              "        const docLinkHtml = 'Like what you see? Visit the ' +\n",
              "          '<a target=\"_blank\" href=https://colab.research.google.com/notebooks/data_table.ipynb>data table notebook</a>'\n",
              "          + ' to learn more about interactive tables.';\n",
              "        element.innerHTML = '';\n",
              "        dataTable['output_type'] = 'display_data';\n",
              "        await google.colab.output.renderOutput(dataTable, element);\n",
              "        const docLink = document.createElement('div');\n",
              "        docLink.innerHTML = docLinkHtml;\n",
              "        element.appendChild(docLink);\n",
              "      }\n",
              "    </script>\n",
              "  </div>\n",
              "\n",
              "\n",
              "<div id=\"df-16a1c427-d9a9-4c87-9a54-c4c33a06c87a\">\n",
              "  <button class=\"colab-df-quickchart\" onclick=\"quickchart('df-16a1c427-d9a9-4c87-9a54-c4c33a06c87a')\"\n",
              "            title=\"Suggest charts\"\n",
              "            style=\"display:none;\">\n",
              "\n",
              "<svg xmlns=\"http://www.w3.org/2000/svg\" height=\"24px\"viewBox=\"0 0 24 24\"\n",
              "     width=\"24px\">\n",
              "    <g>\n",
              "        <path d=\"M19 3H5c-1.1 0-2 .9-2 2v14c0 1.1.9 2 2 2h14c1.1 0 2-.9 2-2V5c0-1.1-.9-2-2-2zM9 17H7v-7h2v7zm4 0h-2V7h2v10zm4 0h-2v-4h2v4z\"/>\n",
              "    </g>\n",
              "</svg>\n",
              "  </button>\n",
              "\n",
              "<style>\n",
              "  .colab-df-quickchart {\n",
              "      --bg-color: #E8F0FE;\n",
              "      --fill-color: #1967D2;\n",
              "      --hover-bg-color: #E2EBFA;\n",
              "      --hover-fill-color: #174EA6;\n",
              "      --disabled-fill-color: #AAA;\n",
              "      --disabled-bg-color: #DDD;\n",
              "  }\n",
              "\n",
              "  [theme=dark] .colab-df-quickchart {\n",
              "      --bg-color: #3B4455;\n",
              "      --fill-color: #D2E3FC;\n",
              "      --hover-bg-color: #434B5C;\n",
              "      --hover-fill-color: #FFFFFF;\n",
              "      --disabled-bg-color: #3B4455;\n",
              "      --disabled-fill-color: #666;\n",
              "  }\n",
              "\n",
              "  .colab-df-quickchart {\n",
              "    background-color: var(--bg-color);\n",
              "    border: none;\n",
              "    border-radius: 50%;\n",
              "    cursor: pointer;\n",
              "    display: none;\n",
              "    fill: var(--fill-color);\n",
              "    height: 32px;\n",
              "    padding: 0;\n",
              "    width: 32px;\n",
              "  }\n",
              "\n",
              "  .colab-df-quickchart:hover {\n",
              "    background-color: var(--hover-bg-color);\n",
              "    box-shadow: 0 1px 2px rgba(60, 64, 67, 0.3), 0 1px 3px 1px rgba(60, 64, 67, 0.15);\n",
              "    fill: var(--button-hover-fill-color);\n",
              "  }\n",
              "\n",
              "  .colab-df-quickchart-complete:disabled,\n",
              "  .colab-df-quickchart-complete:disabled:hover {\n",
              "    background-color: var(--disabled-bg-color);\n",
              "    fill: var(--disabled-fill-color);\n",
              "    box-shadow: none;\n",
              "  }\n",
              "\n",
              "  .colab-df-spinner {\n",
              "    border: 2px solid var(--fill-color);\n",
              "    border-color: transparent;\n",
              "    border-bottom-color: var(--fill-color);\n",
              "    animation:\n",
              "      spin 1s steps(1) infinite;\n",
              "  }\n",
              "\n",
              "  @keyframes spin {\n",
              "    0% {\n",
              "      border-color: transparent;\n",
              "      border-bottom-color: var(--fill-color);\n",
              "      border-left-color: var(--fill-color);\n",
              "    }\n",
              "    20% {\n",
              "      border-color: transparent;\n",
              "      border-left-color: var(--fill-color);\n",
              "      border-top-color: var(--fill-color);\n",
              "    }\n",
              "    30% {\n",
              "      border-color: transparent;\n",
              "      border-left-color: var(--fill-color);\n",
              "      border-top-color: var(--fill-color);\n",
              "      border-right-color: var(--fill-color);\n",
              "    }\n",
              "    40% {\n",
              "      border-color: transparent;\n",
              "      border-right-color: var(--fill-color);\n",
              "      border-top-color: var(--fill-color);\n",
              "    }\n",
              "    60% {\n",
              "      border-color: transparent;\n",
              "      border-right-color: var(--fill-color);\n",
              "    }\n",
              "    80% {\n",
              "      border-color: transparent;\n",
              "      border-right-color: var(--fill-color);\n",
              "      border-bottom-color: var(--fill-color);\n",
              "    }\n",
              "    90% {\n",
              "      border-color: transparent;\n",
              "      border-bottom-color: var(--fill-color);\n",
              "    }\n",
              "  }\n",
              "</style>\n",
              "\n",
              "  <script>\n",
              "    async function quickchart(key) {\n",
              "      const quickchartButtonEl =\n",
              "        document.querySelector('#' + key + ' button');\n",
              "      quickchartButtonEl.disabled = true;  // To prevent multiple clicks.\n",
              "      quickchartButtonEl.classList.add('colab-df-spinner');\n",
              "      try {\n",
              "        const charts = await google.colab.kernel.invokeFunction(\n",
              "            'suggestCharts', [key], {});\n",
              "      } catch (error) {\n",
              "        console.error('Error during call to suggestCharts:', error);\n",
              "      }\n",
              "      quickchartButtonEl.classList.remove('colab-df-spinner');\n",
              "      quickchartButtonEl.classList.add('colab-df-quickchart-complete');\n",
              "    }\n",
              "    (() => {\n",
              "      let quickchartButtonEl =\n",
              "        document.querySelector('#df-16a1c427-d9a9-4c87-9a54-c4c33a06c87a button');\n",
              "      quickchartButtonEl.style.display =\n",
              "        google.colab.kernel.accessAllowed ? 'block' : 'none';\n",
              "    })();\n",
              "  </script>\n",
              "</div>\n",
              "    </div>\n",
              "  </div>\n"
            ]
          },
          "metadata": {},
          "execution_count": 12
        }
      ],
      "source": [
        "df_normalized.head(10)"
      ]
    },
    {
      "cell_type": "code",
      "execution_count": 13,
      "id": "f8f8e6d8",
      "metadata": {
        "id": "f8f8e6d8"
      },
      "outputs": [],
      "source": [
        "#Function to create and add Labels in the data:\n",
        "\n",
        "def add_labels(df):\n",
        "    df['label'] = df['score'].apply(lambda score: 'Below Average' if score < 6.3 else ('Average' if 6.3 <= score <= 7.3 else 'Above Average'))\n",
        "    return df"
      ]
    },
    {
      "cell_type": "code",
      "execution_count": 14,
      "id": "85b43a55",
      "metadata": {
        "id": "85b43a55"
      },
      "outputs": [],
      "source": [
        "labeled_df = add_labels(df_normalized)"
      ]
    },
    {
      "cell_type": "code",
      "execution_count": 15,
      "id": "de35ea55",
      "metadata": {
        "colab": {
          "base_uri": "https://localhost:8080/",
          "height": 363
        },
        "id": "de35ea55",
        "outputId": "b5781f14-63a7-44b1-ee34-98ff1a62005e"
      },
      "outputs": [
        {
          "output_type": "execute_result",
          "data": {
            "text/plain": [
              "   popularity  budget  revenue  runtime  score          label\n",
              "0      100.00    8.88     3.89    42.62   7.62  Above Average\n",
              "1       29.53    2.11    15.83    48.36   7.65  Above Average\n",
              "2       25.48   48.68    36.03    60.66   8.49  Above Average\n",
              "3       40.45   43.42    24.22    67.62   8.40  Above Average\n",
              "4       20.78    2.89    27.81    47.95   8.17  Above Average\n",
              "5       18.87   36.84    20.99    50.00   7.62  Above Average\n",
              "6       41.69   32.89    35.02    60.66   7.90  Above Average\n",
              "7       30.61    1.58     8.79    70.08   8.66  Above Average\n",
              "8       23.37   42.11    29.61    59.02   8.34  Above Average\n",
              "9       27.11   62.37   100.00    64.75   7.56  Above Average"
            ],
            "text/html": [
              "\n",
              "  <div id=\"df-5a6dbaa6-c3a8-4572-a7fd-6394a9f2f526\" class=\"colab-df-container\">\n",
              "    <div>\n",
              "<style scoped>\n",
              "    .dataframe tbody tr th:only-of-type {\n",
              "        vertical-align: middle;\n",
              "    }\n",
              "\n",
              "    .dataframe tbody tr th {\n",
              "        vertical-align: top;\n",
              "    }\n",
              "\n",
              "    .dataframe thead th {\n",
              "        text-align: right;\n",
              "    }\n",
              "</style>\n",
              "<table border=\"1\" class=\"dataframe\">\n",
              "  <thead>\n",
              "    <tr style=\"text-align: right;\">\n",
              "      <th></th>\n",
              "      <th>popularity</th>\n",
              "      <th>budget</th>\n",
              "      <th>revenue</th>\n",
              "      <th>runtime</th>\n",
              "      <th>score</th>\n",
              "      <th>label</th>\n",
              "    </tr>\n",
              "  </thead>\n",
              "  <tbody>\n",
              "    <tr>\n",
              "      <th>0</th>\n",
              "      <td>100.00</td>\n",
              "      <td>8.88</td>\n",
              "      <td>3.89</td>\n",
              "      <td>42.62</td>\n",
              "      <td>7.62</td>\n",
              "      <td>Above Average</td>\n",
              "    </tr>\n",
              "    <tr>\n",
              "      <th>1</th>\n",
              "      <td>29.53</td>\n",
              "      <td>2.11</td>\n",
              "      <td>15.83</td>\n",
              "      <td>48.36</td>\n",
              "      <td>7.65</td>\n",
              "      <td>Above Average</td>\n",
              "    </tr>\n",
              "    <tr>\n",
              "      <th>2</th>\n",
              "      <td>25.48</td>\n",
              "      <td>48.68</td>\n",
              "      <td>36.03</td>\n",
              "      <td>60.66</td>\n",
              "      <td>8.49</td>\n",
              "      <td>Above Average</td>\n",
              "    </tr>\n",
              "    <tr>\n",
              "      <th>3</th>\n",
              "      <td>40.45</td>\n",
              "      <td>43.42</td>\n",
              "      <td>24.22</td>\n",
              "      <td>67.62</td>\n",
              "      <td>8.40</td>\n",
              "      <td>Above Average</td>\n",
              "    </tr>\n",
              "    <tr>\n",
              "      <th>4</th>\n",
              "      <td>20.78</td>\n",
              "      <td>2.89</td>\n",
              "      <td>27.81</td>\n",
              "      <td>47.95</td>\n",
              "      <td>8.17</td>\n",
              "      <td>Above Average</td>\n",
              "    </tr>\n",
              "    <tr>\n",
              "      <th>5</th>\n",
              "      <td>18.87</td>\n",
              "      <td>36.84</td>\n",
              "      <td>20.99</td>\n",
              "      <td>50.00</td>\n",
              "      <td>7.62</td>\n",
              "      <td>Above Average</td>\n",
              "    </tr>\n",
              "    <tr>\n",
              "      <th>6</th>\n",
              "      <td>41.69</td>\n",
              "      <td>32.89</td>\n",
              "      <td>35.02</td>\n",
              "      <td>60.66</td>\n",
              "      <td>7.90</td>\n",
              "      <td>Above Average</td>\n",
              "    </tr>\n",
              "    <tr>\n",
              "      <th>7</th>\n",
              "      <td>30.61</td>\n",
              "      <td>1.58</td>\n",
              "      <td>8.79</td>\n",
              "      <td>70.08</td>\n",
              "      <td>8.66</td>\n",
              "      <td>Above Average</td>\n",
              "    </tr>\n",
              "    <tr>\n",
              "      <th>8</th>\n",
              "      <td>23.37</td>\n",
              "      <td>42.11</td>\n",
              "      <td>29.61</td>\n",
              "      <td>59.02</td>\n",
              "      <td>8.34</td>\n",
              "      <td>Above Average</td>\n",
              "    </tr>\n",
              "    <tr>\n",
              "      <th>9</th>\n",
              "      <td>27.11</td>\n",
              "      <td>62.37</td>\n",
              "      <td>100.00</td>\n",
              "      <td>64.75</td>\n",
              "      <td>7.56</td>\n",
              "      <td>Above Average</td>\n",
              "    </tr>\n",
              "  </tbody>\n",
              "</table>\n",
              "</div>\n",
              "    <div class=\"colab-df-buttons\">\n",
              "\n",
              "  <div class=\"colab-df-container\">\n",
              "    <button class=\"colab-df-convert\" onclick=\"convertToInteractive('df-5a6dbaa6-c3a8-4572-a7fd-6394a9f2f526')\"\n",
              "            title=\"Convert this dataframe to an interactive table.\"\n",
              "            style=\"display:none;\">\n",
              "\n",
              "  <svg xmlns=\"http://www.w3.org/2000/svg\" height=\"24px\" viewBox=\"0 -960 960 960\">\n",
              "    <path d=\"M120-120v-720h720v720H120Zm60-500h600v-160H180v160Zm220 220h160v-160H400v160Zm0 220h160v-160H400v160ZM180-400h160v-160H180v160Zm440 0h160v-160H620v160ZM180-180h160v-160H180v160Zm440 0h160v-160H620v160Z\"/>\n",
              "  </svg>\n",
              "    </button>\n",
              "\n",
              "  <style>\n",
              "    .colab-df-container {\n",
              "      display:flex;\n",
              "      gap: 12px;\n",
              "    }\n",
              "\n",
              "    .colab-df-convert {\n",
              "      background-color: #E8F0FE;\n",
              "      border: none;\n",
              "      border-radius: 50%;\n",
              "      cursor: pointer;\n",
              "      display: none;\n",
              "      fill: #1967D2;\n",
              "      height: 32px;\n",
              "      padding: 0 0 0 0;\n",
              "      width: 32px;\n",
              "    }\n",
              "\n",
              "    .colab-df-convert:hover {\n",
              "      background-color: #E2EBFA;\n",
              "      box-shadow: 0px 1px 2px rgba(60, 64, 67, 0.3), 0px 1px 3px 1px rgba(60, 64, 67, 0.15);\n",
              "      fill: #174EA6;\n",
              "    }\n",
              "\n",
              "    .colab-df-buttons div {\n",
              "      margin-bottom: 4px;\n",
              "    }\n",
              "\n",
              "    [theme=dark] .colab-df-convert {\n",
              "      background-color: #3B4455;\n",
              "      fill: #D2E3FC;\n",
              "    }\n",
              "\n",
              "    [theme=dark] .colab-df-convert:hover {\n",
              "      background-color: #434B5C;\n",
              "      box-shadow: 0px 1px 3px 1px rgba(0, 0, 0, 0.15);\n",
              "      filter: drop-shadow(0px 1px 2px rgba(0, 0, 0, 0.3));\n",
              "      fill: #FFFFFF;\n",
              "    }\n",
              "  </style>\n",
              "\n",
              "    <script>\n",
              "      const buttonEl =\n",
              "        document.querySelector('#df-5a6dbaa6-c3a8-4572-a7fd-6394a9f2f526 button.colab-df-convert');\n",
              "      buttonEl.style.display =\n",
              "        google.colab.kernel.accessAllowed ? 'block' : 'none';\n",
              "\n",
              "      async function convertToInteractive(key) {\n",
              "        const element = document.querySelector('#df-5a6dbaa6-c3a8-4572-a7fd-6394a9f2f526');\n",
              "        const dataTable =\n",
              "          await google.colab.kernel.invokeFunction('convertToInteractive',\n",
              "                                                    [key], {});\n",
              "        if (!dataTable) return;\n",
              "\n",
              "        const docLinkHtml = 'Like what you see? Visit the ' +\n",
              "          '<a target=\"_blank\" href=https://colab.research.google.com/notebooks/data_table.ipynb>data table notebook</a>'\n",
              "          + ' to learn more about interactive tables.';\n",
              "        element.innerHTML = '';\n",
              "        dataTable['output_type'] = 'display_data';\n",
              "        await google.colab.output.renderOutput(dataTable, element);\n",
              "        const docLink = document.createElement('div');\n",
              "        docLink.innerHTML = docLinkHtml;\n",
              "        element.appendChild(docLink);\n",
              "      }\n",
              "    </script>\n",
              "  </div>\n",
              "\n",
              "\n",
              "<div id=\"df-b0f33582-4247-4d59-85e5-061b9e76e5f0\">\n",
              "  <button class=\"colab-df-quickchart\" onclick=\"quickchart('df-b0f33582-4247-4d59-85e5-061b9e76e5f0')\"\n",
              "            title=\"Suggest charts\"\n",
              "            style=\"display:none;\">\n",
              "\n",
              "<svg xmlns=\"http://www.w3.org/2000/svg\" height=\"24px\"viewBox=\"0 0 24 24\"\n",
              "     width=\"24px\">\n",
              "    <g>\n",
              "        <path d=\"M19 3H5c-1.1 0-2 .9-2 2v14c0 1.1.9 2 2 2h14c1.1 0 2-.9 2-2V5c0-1.1-.9-2-2-2zM9 17H7v-7h2v7zm4 0h-2V7h2v10zm4 0h-2v-4h2v4z\"/>\n",
              "    </g>\n",
              "</svg>\n",
              "  </button>\n",
              "\n",
              "<style>\n",
              "  .colab-df-quickchart {\n",
              "      --bg-color: #E8F0FE;\n",
              "      --fill-color: #1967D2;\n",
              "      --hover-bg-color: #E2EBFA;\n",
              "      --hover-fill-color: #174EA6;\n",
              "      --disabled-fill-color: #AAA;\n",
              "      --disabled-bg-color: #DDD;\n",
              "  }\n",
              "\n",
              "  [theme=dark] .colab-df-quickchart {\n",
              "      --bg-color: #3B4455;\n",
              "      --fill-color: #D2E3FC;\n",
              "      --hover-bg-color: #434B5C;\n",
              "      --hover-fill-color: #FFFFFF;\n",
              "      --disabled-bg-color: #3B4455;\n",
              "      --disabled-fill-color: #666;\n",
              "  }\n",
              "\n",
              "  .colab-df-quickchart {\n",
              "    background-color: var(--bg-color);\n",
              "    border: none;\n",
              "    border-radius: 50%;\n",
              "    cursor: pointer;\n",
              "    display: none;\n",
              "    fill: var(--fill-color);\n",
              "    height: 32px;\n",
              "    padding: 0;\n",
              "    width: 32px;\n",
              "  }\n",
              "\n",
              "  .colab-df-quickchart:hover {\n",
              "    background-color: var(--hover-bg-color);\n",
              "    box-shadow: 0 1px 2px rgba(60, 64, 67, 0.3), 0 1px 3px 1px rgba(60, 64, 67, 0.15);\n",
              "    fill: var(--button-hover-fill-color);\n",
              "  }\n",
              "\n",
              "  .colab-df-quickchart-complete:disabled,\n",
              "  .colab-df-quickchart-complete:disabled:hover {\n",
              "    background-color: var(--disabled-bg-color);\n",
              "    fill: var(--disabled-fill-color);\n",
              "    box-shadow: none;\n",
              "  }\n",
              "\n",
              "  .colab-df-spinner {\n",
              "    border: 2px solid var(--fill-color);\n",
              "    border-color: transparent;\n",
              "    border-bottom-color: var(--fill-color);\n",
              "    animation:\n",
              "      spin 1s steps(1) infinite;\n",
              "  }\n",
              "\n",
              "  @keyframes spin {\n",
              "    0% {\n",
              "      border-color: transparent;\n",
              "      border-bottom-color: var(--fill-color);\n",
              "      border-left-color: var(--fill-color);\n",
              "    }\n",
              "    20% {\n",
              "      border-color: transparent;\n",
              "      border-left-color: var(--fill-color);\n",
              "      border-top-color: var(--fill-color);\n",
              "    }\n",
              "    30% {\n",
              "      border-color: transparent;\n",
              "      border-left-color: var(--fill-color);\n",
              "      border-top-color: var(--fill-color);\n",
              "      border-right-color: var(--fill-color);\n",
              "    }\n",
              "    40% {\n",
              "      border-color: transparent;\n",
              "      border-right-color: var(--fill-color);\n",
              "      border-top-color: var(--fill-color);\n",
              "    }\n",
              "    60% {\n",
              "      border-color: transparent;\n",
              "      border-right-color: var(--fill-color);\n",
              "    }\n",
              "    80% {\n",
              "      border-color: transparent;\n",
              "      border-right-color: var(--fill-color);\n",
              "      border-bottom-color: var(--fill-color);\n",
              "    }\n",
              "    90% {\n",
              "      border-color: transparent;\n",
              "      border-bottom-color: var(--fill-color);\n",
              "    }\n",
              "  }\n",
              "</style>\n",
              "\n",
              "  <script>\n",
              "    async function quickchart(key) {\n",
              "      const quickchartButtonEl =\n",
              "        document.querySelector('#' + key + ' button');\n",
              "      quickchartButtonEl.disabled = true;  // To prevent multiple clicks.\n",
              "      quickchartButtonEl.classList.add('colab-df-spinner');\n",
              "      try {\n",
              "        const charts = await google.colab.kernel.invokeFunction(\n",
              "            'suggestCharts', [key], {});\n",
              "      } catch (error) {\n",
              "        console.error('Error during call to suggestCharts:', error);\n",
              "      }\n",
              "      quickchartButtonEl.classList.remove('colab-df-spinner');\n",
              "      quickchartButtonEl.classList.add('colab-df-quickchart-complete');\n",
              "    }\n",
              "    (() => {\n",
              "      let quickchartButtonEl =\n",
              "        document.querySelector('#df-b0f33582-4247-4d59-85e5-061b9e76e5f0 button');\n",
              "      quickchartButtonEl.style.display =\n",
              "        google.colab.kernel.accessAllowed ? 'block' : 'none';\n",
              "    })();\n",
              "  </script>\n",
              "</div>\n",
              "    </div>\n",
              "  </div>\n"
            ]
          },
          "metadata": {},
          "execution_count": 15
        }
      ],
      "source": [
        "labeled_df.head(10)"
      ]
    },
    {
      "cell_type": "code",
      "execution_count": 16,
      "id": "367826e7",
      "metadata": {
        "scrolled": false,
        "colab": {
          "base_uri": "https://localhost:8080/",
          "height": 543
        },
        "id": "367826e7",
        "outputId": "fbb9fac3-90a2-4b75-c7b5-b5e45aab0113"
      },
      "outputs": [
        {
          "output_type": "display_data",
          "data": {
            "text/plain": [
              "<Figure size 640x480 with 1 Axes>"
            ],
            "image/png": "[encoded data removed]"
          },
          "metadata": {}
        }
      ],
      "source": [
        "labeled_df.label.value_counts().plot(kind='bar', title='Count (label)');"
      ]
    },
    {
      "cell_type": "code",
      "execution_count": 17,
      "id": "e4fbfe44",
      "metadata": {
        "id": "e4fbfe44"
      },
      "outputs": [],
      "source": [
        "sampled_df = labeled_df.sample(n=4127, random_state=42)"
      ]
    },
    {
      "cell_type": "code",
      "execution_count": 18,
      "id": "edfe7114",
      "metadata": {
        "id": "edfe7114"
      },
      "outputs": [],
      "source": [
        "X = sampled_df.drop(['label', 'score'], axis = 1)\n",
        "y = sampled_df['label']"
      ]
    },
    {
      "cell_type": "code",
      "execution_count": 19,
      "id": "766ed643",
      "metadata": {
        "id": "766ed643"
      },
      "outputs": [],
      "source": [
        "X_train, X_test, y_train, y_test = train_test_split(X, y, test_size = 0.2, random_state = 42)"
      ]
    },
    {
      "cell_type": "code",
      "execution_count": 20,
      "id": "3d50e21b",
      "metadata": {
        "colab": {
          "base_uri": "https://localhost:8080/",
          "height": 363
        },
        "id": "3d50e21b",
        "outputId": "bb5ed2a7-5713-42bf-aa6d-c6bf5f9651c9"
      },
      "outputs": [
        {
          "output_type": "execute_result",
          "data": {
            "text/plain": [
              "      popularity  budget  revenue  runtime\n",
              "3209        6.56   10.53     3.89    37.30\n",
              "441         7.53    0.26     0.52    36.89\n",
              "2166        4.23    4.47     2.59    68.03\n",
              "1309        4.29   15.79     4.66    34.84\n",
              "3265        5.77   39.47     4.61    43.85\n",
              "2909        7.27    8.88     1.58    41.39\n",
              "867         7.09   11.05     0.87    48.36\n",
              "1458        5.99    6.58    10.11    38.11\n",
              "1562        7.28    8.88     3.89    48.77\n",
              "1720        7.07    2.89     0.03    42.62"
            ],
            "text/html": [
              "\n",
              "  <div id=\"df-0897afdf-1ebd-4850-9169-49d0e6873d23\" class=\"colab-df-container\">\n",
              "    <div>\n",
              "<style scoped>\n",
              "    .dataframe tbody tr th:only-of-type {\n",
              "        vertical-align: middle;\n",
              "    }\n",
              "\n",
              "    .dataframe tbody tr th {\n",
              "        vertical-align: top;\n",
              "    }\n",
              "\n",
              "    .dataframe thead th {\n",
              "        text-align: right;\n",
              "    }\n",
              "</style>\n",
              "<table border=\"1\" class=\"dataframe\">\n",
              "  <thead>\n",
              "    <tr style=\"text-align: right;\">\n",
              "      <th></th>\n",
              "      <th>popularity</th>\n",
              "      <th>budget</th>\n",
              "      <th>revenue</th>\n",
              "      <th>runtime</th>\n",
              "    </tr>\n",
              "  </thead>\n",
              "  <tbody>\n",
              "    <tr>\n",
              "      <th>3209</th>\n",
              "      <td>6.56</td>\n",
              "      <td>10.53</td>\n",
              "      <td>3.89</td>\n",
              "      <td>37.30</td>\n",
              "    </tr>\n",
              "    <tr>\n",
              "      <th>441</th>\n",
              "      <td>7.53</td>\n",
              "      <td>0.26</td>\n",
              "      <td>0.52</td>\n",
              "      <td>36.89</td>\n",
              "    </tr>\n",
              "    <tr>\n",
              "      <th>2166</th>\n",
              "      <td>4.23</td>\n",
              "      <td>4.47</td>\n",
              "      <td>2.59</td>\n",
              "      <td>68.03</td>\n",
              "    </tr>\n",
              "    <tr>\n",
              "      <th>1309</th>\n",
              "      <td>4.29</td>\n",
              "      <td>15.79</td>\n",
              "      <td>4.66</td>\n",
              "      <td>34.84</td>\n",
              "    </tr>\n",
              "    <tr>\n",
              "      <th>3265</th>\n",
              "      <td>5.77</td>\n",
              "      <td>39.47</td>\n",
              "      <td>4.61</td>\n",
              "      <td>43.85</td>\n",
              "    </tr>\n",
              "    <tr>\n",
              "      <th>2909</th>\n",
              "      <td>7.27</td>\n",
              "      <td>8.88</td>\n",
              "      <td>1.58</td>\n",
              "      <td>41.39</td>\n",
              "    </tr>\n",
              "    <tr>\n",
              "      <th>867</th>\n",
              "      <td>7.09</td>\n",
              "      <td>11.05</td>\n",
              "      <td>0.87</td>\n",
              "      <td>48.36</td>\n",
              "    </tr>\n",
              "    <tr>\n",
              "      <th>1458</th>\n",
              "      <td>5.99</td>\n",
              "      <td>6.58</td>\n",
              "      <td>10.11</td>\n",
              "      <td>38.11</td>\n",
              "    </tr>\n",
              "    <tr>\n",
              "      <th>1562</th>\n",
              "      <td>7.28</td>\n",
              "      <td>8.88</td>\n",
              "      <td>3.89</td>\n",
              "      <td>48.77</td>\n",
              "    </tr>\n",
              "    <tr>\n",
              "      <th>1720</th>\n",
              "      <td>7.07</td>\n",
              "      <td>2.89</td>\n",
              "      <td>0.03</td>\n",
              "      <td>42.62</td>\n",
              "    </tr>\n",
              "  </tbody>\n",
              "</table>\n",
              "</div>\n",
              "    <div class=\"colab-df-buttons\">\n",
              "\n",
              "  <div class=\"colab-df-container\">\n",
              "    <button class=\"colab-df-convert\" onclick=\"convertToInteractive('df-0897afdf-1ebd-4850-9169-49d0e6873d23')\"\n",
              "            title=\"Convert this dataframe to an interactive table.\"\n",
              "            style=\"display:none;\">\n",
              "\n",
              "  <svg xmlns=\"http://www.w3.org/2000/svg\" height=\"24px\" viewBox=\"0 -960 960 960\">\n",
              "    <path d=\"M120-120v-720h720v720H120Zm60-500h600v-160H180v160Zm220 220h160v-160H400v160Zm0 220h160v-160H400v160ZM180-400h160v-160H180v160Zm440 0h160v-160H620v160ZM180-180h160v-160H180v160Zm440 0h160v-160H620v160Z\"/>\n",
              "  </svg>\n",
              "    </button>\n",
              "\n",
              "  <style>\n",
              "    .colab-df-container {\n",
              "      display:flex;\n",
              "      gap: 12px;\n",
              "    }\n",
              "\n",
              "    .colab-df-convert {\n",
              "      background-color: #E8F0FE;\n",
              "      border: none;\n",
              "      border-radius: 50%;\n",
              "      cursor: pointer;\n",
              "      display: none;\n",
              "      fill: #1967D2;\n",
              "      height: 32px;\n",
              "      padding: 0 0 0 0;\n",
              "      width: 32px;\n",
              "    }\n",
              "\n",
              "    .colab-df-convert:hover {\n",
              "      background-color: #E2EBFA;\n",
              "      box-shadow: 0px 1px 2px rgba(60, 64, 67, 0.3), 0px 1px 3px 1px rgba(60, 64, 67, 0.15);\n",
              "      fill: #174EA6;\n",
              "    }\n",
              "\n",
              "    .colab-df-buttons div {\n",
              "      margin-bottom: 4px;\n",
              "    }\n",
              "\n",
              "    [theme=dark] .colab-df-convert {\n",
              "      background-color: #3B4455;\n",
              "      fill: #D2E3FC;\n",
              "    }\n",
              "\n",
              "    [theme=dark] .colab-df-convert:hover {\n",
              "      background-color: #434B5C;\n",
              "      box-shadow: 0px 1px 3px 1px rgba(0, 0, 0, 0.15);\n",
              "      filter: drop-shadow(0px 1px 2px rgba(0, 0, 0, 0.3));\n",
              "      fill: #FFFFFF;\n",
              "    }\n",
              "  </style>\n",
              "\n",
              "    <script>\n",
              "      const buttonEl =\n",
              "        document.querySelector('#df-0897afdf-1ebd-4850-9169-49d0e6873d23 button.colab-df-convert');\n",
              "      buttonEl.style.display =\n",
              "        google.colab.kernel.accessAllowed ? 'block' : 'none';\n",
              "\n",
              "      async function convertToInteractive(key) {\n",
              "        const element = document.querySelector('#df-0897afdf-1ebd-4850-9169-49d0e6873d23');\n",
              "        const dataTable =\n",
              "          await google.colab.kernel.invokeFunction('convertToInteractive',\n",
              "                                                    [key], {});\n",
              "        if (!dataTable) return;\n",
              "\n",
              "        const docLinkHtml = 'Like what you see? Visit the ' +\n",
              "          '<a target=\"_blank\" href=https://colab.research.google.com/notebooks/data_table.ipynb>data table notebook</a>'\n",
              "          + ' to learn more about interactive tables.';\n",
              "        element.innerHTML = '';\n",
              "        dataTable['output_type'] = 'display_data';\n",
              "        await google.colab.output.renderOutput(dataTable, element);\n",
              "        const docLink = document.createElement('div');\n",
              "        docLink.innerHTML = docLinkHtml;\n",
              "        element.appendChild(docLink);\n",
              "      }\n",
              "    </script>\n",
              "  </div>\n",
              "\n",
              "\n",
              "<div id=\"df-57b040ad-a1bc-4a5f-9a46-a6dd78e7e532\">\n",
              "  <button class=\"colab-df-quickchart\" onclick=\"quickchart('df-57b040ad-a1bc-4a5f-9a46-a6dd78e7e532')\"\n",
              "            title=\"Suggest charts\"\n",
              "            style=\"display:none;\">\n",
              "\n",
              "<svg xmlns=\"http://www.w3.org/2000/svg\" height=\"24px\"viewBox=\"0 0 24 24\"\n",
              "     width=\"24px\">\n",
              "    <g>\n",
              "        <path d=\"M19 3H5c-1.1 0-2 .9-2 2v14c0 1.1.9 2 2 2h14c1.1 0 2-.9 2-2V5c0-1.1-.9-2-2-2zM9 17H7v-7h2v7zm4 0h-2V7h2v10zm4 0h-2v-4h2v4z\"/>\n",
              "    </g>\n",
              "</svg>\n",
              "  </button>\n",
              "\n",
              "<style>\n",
              "  .colab-df-quickchart {\n",
              "      --bg-color: #E8F0FE;\n",
              "      --fill-color: #1967D2;\n",
              "      --hover-bg-color: #E2EBFA;\n",
              "      --hover-fill-color: #174EA6;\n",
              "      --disabled-fill-color: #AAA;\n",
              "      --disabled-bg-color: #DDD;\n",
              "  }\n",
              "\n",
              "  [theme=dark] .colab-df-quickchart {\n",
              "      --bg-color: #3B4455;\n",
              "      --fill-color: #D2E3FC;\n",
              "      --hover-bg-color: #434B5C;\n",
              "      --hover-fill-color: #FFFFFF;\n",
              "      --disabled-bg-color: #3B4455;\n",
              "      --disabled-fill-color: #666;\n",
              "  }\n",
              "\n",
              "  .colab-df-quickchart {\n",
              "    background-color: var(--bg-color);\n",
              "    border: none;\n",
              "    border-radius: 50%;\n",
              "    cursor: pointer;\n",
              "    display: none;\n",
              "    fill: var(--fill-color);\n",
              "    height: 32px;\n",
              "    padding: 0;\n",
              "    width: 32px;\n",
              "  }\n",
              "\n",
              "  .colab-df-quickchart:hover {\n",
              "    background-color: var(--hover-bg-color);\n",
              "    box-shadow: 0 1px 2px rgba(60, 64, 67, 0.3), 0 1px 3px 1px rgba(60, 64, 67, 0.15);\n",
              "    fill: var(--button-hover-fill-color);\n",
              "  }\n",
              "\n",
              "  .colab-df-quickchart-complete:disabled,\n",
              "  .colab-df-quickchart-complete:disabled:hover {\n",
              "    background-color: var(--disabled-bg-color);\n",
              "    fill: var(--disabled-fill-color);\n",
              "    box-shadow: none;\n",
              "  }\n",
              "\n",
              "  .colab-df-spinner {\n",
              "    border: 2px solid var(--fill-color);\n",
              "    border-color: transparent;\n",
              "    border-bottom-color: var(--fill-color);\n",
              "    animation:\n",
              "      spin 1s steps(1) infinite;\n",
              "  }\n",
              "\n",
              "  @keyframes spin {\n",
              "    0% {\n",
              "      border-color: transparent;\n",
              "      border-bottom-color: var(--fill-color);\n",
              "      border-left-color: var(--fill-color);\n",
              "    }\n",
              "    20% {\n",
              "      border-color: transparent;\n",
              "      border-left-color: var(--fill-color);\n",
              "      border-top-color: var(--fill-color);\n",
              "    }\n",
              "    30% {\n",
              "      border-color: transparent;\n",
              "      border-left-color: var(--fill-color);\n",
              "      border-top-color: var(--fill-color);\n",
              "      border-right-color: var(--fill-color);\n",
              "    }\n",
              "    40% {\n",
              "      border-color: transparent;\n",
              "      border-right-color: var(--fill-color);\n",
              "      border-top-color: var(--fill-color);\n",
              "    }\n",
              "    60% {\n",
              "      border-color: transparent;\n",
              "      border-right-color: var(--fill-color);\n",
              "    }\n",
              "    80% {\n",
              "      border-color: transparent;\n",
              "      border-right-color: var(--fill-color);\n",
              "      border-bottom-color: var(--fill-color);\n",
              "    }\n",
              "    90% {\n",
              "      border-color: transparent;\n",
              "      border-bottom-color: var(--fill-color);\n",
              "    }\n",
              "  }\n",
              "</style>\n",
              "\n",
              "  <script>\n",
              "    async function quickchart(key) {\n",
              "      const quickchartButtonEl =\n",
              "        document.querySelector('#' + key + ' button');\n",
              "      quickchartButtonEl.disabled = true;  // To prevent multiple clicks.\n",
              "      quickchartButtonEl.classList.add('colab-df-spinner');\n",
              "      try {\n",
              "        const charts = await google.colab.kernel.invokeFunction(\n",
              "            'suggestCharts', [key], {});\n",
              "      } catch (error) {\n",
              "        console.error('Error during call to suggestCharts:', error);\n",
              "      }\n",
              "      quickchartButtonEl.classList.remove('colab-df-spinner');\n",
              "      quickchartButtonEl.classList.add('colab-df-quickchart-complete');\n",
              "    }\n",
              "    (() => {\n",
              "      let quickchartButtonEl =\n",
              "        document.querySelector('#df-57b040ad-a1bc-4a5f-9a46-a6dd78e7e532 button');\n",
              "      quickchartButtonEl.style.display =\n",
              "        google.colab.kernel.accessAllowed ? 'block' : 'none';\n",
              "    })();\n",
              "  </script>\n",
              "</div>\n",
              "    </div>\n",
              "  </div>\n"
            ]
          },
          "metadata": {},
          "execution_count": 20
        }
      ],
      "source": [
        "X_train.head(10)"
      ]
    },
    {
      "cell_type": "code",
      "execution_count": 21,
      "id": "104d1f37",
      "metadata": {
        "colab": {
          "base_uri": "https://localhost:8080/",
          "height": 363
        },
        "id": "104d1f37",
        "outputId": "7a7d38a8-0746-4ce0-cff0-ec37d627f7e0"
      },
      "outputs": [
        {
          "output_type": "execute_result",
          "data": {
            "text/plain": [
              "      popularity  budget  revenue  runtime\n",
              "3395        6.90    8.88     3.89     1.64\n",
              "1140        5.86    0.66     0.52    38.52\n",
              "2108       11.26    8.88     3.89    33.20\n",
              "1629        4.45    8.88     1.77    36.48\n",
              "4192        4.28    8.88     3.89    41.39\n",
              "2439        3.72    8.88     3.89    46.31\n",
              "3142        3.68    6.58     5.52    38.93\n",
              "1830        6.39    1.58     0.37    38.11\n",
              "1654        6.60    1.84     2.60    38.93\n",
              "379        12.82    8.88     3.36    29.51"
            ],
            "text/html": [
              "\n",
              "  <div id=\"df-8a4065f2-6a09-4f00-a9da-ec683a4f398e\" class=\"colab-df-container\">\n",
              "    <div>\n",
              "<style scoped>\n",
              "    .dataframe tbody tr th:only-of-type {\n",
              "        vertical-align: middle;\n",
              "    }\n",
              "\n",
              "    .dataframe tbody tr th {\n",
              "        vertical-align: top;\n",
              "    }\n",
              "\n",
              "    .dataframe thead th {\n",
              "        text-align: right;\n",
              "    }\n",
              "</style>\n",
              "<table border=\"1\" class=\"dataframe\">\n",
              "  <thead>\n",
              "    <tr style=\"text-align: right;\">\n",
              "      <th></th>\n",
              "      <th>popularity</th>\n",
              "      <th>budget</th>\n",
              "      <th>revenue</th>\n",
              "      <th>runtime</th>\n",
              "    </tr>\n",
              "  </thead>\n",
              "  <tbody>\n",
              "    <tr>\n",
              "      <th>3395</th>\n",
              "      <td>6.90</td>\n",
              "      <td>8.88</td>\n",
              "      <td>3.89</td>\n",
              "      <td>1.64</td>\n",
              "    </tr>\n",
              "    <tr>\n",
              "      <th>1140</th>\n",
              "      <td>5.86</td>\n",
              "      <td>0.66</td>\n",
              "      <td>0.52</td>\n",
              "      <td>38.52</td>\n",
              "    </tr>\n",
              "    <tr>\n",
              "      <th>2108</th>\n",
              "      <td>11.26</td>\n",
              "      <td>8.88</td>\n",
              "      <td>3.89</td>\n",
              "      <td>33.20</td>\n",
              "    </tr>\n",
              "    <tr>\n",
              "      <th>1629</th>\n",
              "      <td>4.45</td>\n",
              "      <td>8.88</td>\n",
              "      <td>1.77</td>\n",
              "      <td>36.48</td>\n",
              "    </tr>\n",
              "    <tr>\n",
              "      <th>4192</th>\n",
              "      <td>4.28</td>\n",
              "      <td>8.88</td>\n",
              "      <td>3.89</td>\n",
              "      <td>41.39</td>\n",
              "    </tr>\n",
              "    <tr>\n",
              "      <th>2439</th>\n",
              "      <td>3.72</td>\n",
              "      <td>8.88</td>\n",
              "      <td>3.89</td>\n",
              "      <td>46.31</td>\n",
              "    </tr>\n",
              "    <tr>\n",
              "      <th>3142</th>\n",
              "      <td>3.68</td>\n",
              "      <td>6.58</td>\n",
              "      <td>5.52</td>\n",
              "      <td>38.93</td>\n",
              "    </tr>\n",
              "    <tr>\n",
              "      <th>1830</th>\n",
              "      <td>6.39</td>\n",
              "      <td>1.58</td>\n",
              "      <td>0.37</td>\n",
              "      <td>38.11</td>\n",
              "    </tr>\n",
              "    <tr>\n",
              "      <th>1654</th>\n",
              "      <td>6.60</td>\n",
              "      <td>1.84</td>\n",
              "      <td>2.60</td>\n",
              "      <td>38.93</td>\n",
              "    </tr>\n",
              "    <tr>\n",
              "      <th>379</th>\n",
              "      <td>12.82</td>\n",
              "      <td>8.88</td>\n",
              "      <td>3.36</td>\n",
              "      <td>29.51</td>\n",
              "    </tr>\n",
              "  </tbody>\n",
              "</table>\n",
              "</div>\n",
              "    <div class=\"colab-df-buttons\">\n",
              "\n",
              "  <div class=\"colab-df-container\">\n",
              "    <button class=\"colab-df-convert\" onclick=\"convertToInteractive('df-8a4065f2-6a09-4f00-a9da-ec683a4f398e')\"\n",
              "            title=\"Convert this dataframe to an interactive table.\"\n",
              "            style=\"display:none;\">\n",
              "\n",
              "  <svg xmlns=\"http://www.w3.org/2000/svg\" height=\"24px\" viewBox=\"0 -960 960 960\">\n",
              "    <path d=\"M120-120v-720h720v720H120Zm60-500h600v-160H180v160Zm220 220h160v-160H400v160Zm0 220h160v-160H400v160ZM180-400h160v-160H180v160Zm440 0h160v-160H620v160ZM180-180h160v-160H180v160Zm440 0h160v-160H620v160Z\"/>\n",
              "  </svg>\n",
              "    </button>\n",
              "\n",
              "  <style>\n",
              "    .colab-df-container {\n",
              "      display:flex;\n",
              "      gap: 12px;\n",
              "    }\n",
              "\n",
              "    .colab-df-convert {\n",
              "      background-color: #E8F0FE;\n",
              "      border: none;\n",
              "      border-radius: 50%;\n",
              "      cursor: pointer;\n",
              "      display: none;\n",
              "      fill: #1967D2;\n",
              "      height: 32px;\n",
              "      padding: 0 0 0 0;\n",
              "      width: 32px;\n",
              "    }\n",
              "\n",
              "    .colab-df-convert:hover {\n",
              "      background-color: #E2EBFA;\n",
              "      box-shadow: 0px 1px 2px rgba(60, 64, 67, 0.3), 0px 1px 3px 1px rgba(60, 64, 67, 0.15);\n",
              "      fill: #174EA6;\n",
              "    }\n",
              "\n",
              "    .colab-df-buttons div {\n",
              "      margin-bottom: 4px;\n",
              "    }\n",
              "\n",
              "    [theme=dark] .colab-df-convert {\n",
              "      background-color: #3B4455;\n",
              "      fill: #D2E3FC;\n",
              "    }\n",
              "\n",
              "    [theme=dark] .colab-df-convert:hover {\n",
              "      background-color: #434B5C;\n",
              "      box-shadow: 0px 1px 3px 1px rgba(0, 0, 0, 0.15);\n",
              "      filter: drop-shadow(0px 1px 2px rgba(0, 0, 0, 0.3));\n",
              "      fill: #FFFFFF;\n",
              "    }\n",
              "  </style>\n",
              "\n",
              "    <script>\n",
              "      const buttonEl =\n",
              "        document.querySelector('#df-8a4065f2-6a09-4f00-a9da-ec683a4f398e button.colab-df-convert');\n",
              "      buttonEl.style.display =\n",
              "        google.colab.kernel.accessAllowed ? 'block' : 'none';\n",
              "\n",
              "      async function convertToInteractive(key) {\n",
              "        const element = document.querySelector('#df-8a4065f2-6a09-4f00-a9da-ec683a4f398e');\n",
              "        const dataTable =\n",
              "          await google.colab.kernel.invokeFunction('convertToInteractive',\n",
              "                                                    [key], {});\n",
              "        if (!dataTable) return;\n",
              "\n",
              "        const docLinkHtml = 'Like what you see? Visit the ' +\n",
              "          '<a target=\"_blank\" href=https://colab.research.google.com/notebooks/data_table.ipynb>data table notebook</a>'\n",
              "          + ' to learn more about interactive tables.';\n",
              "        element.innerHTML = '';\n",
              "        dataTable['output_type'] = 'display_data';\n",
              "        await google.colab.output.renderOutput(dataTable, element);\n",
              "        const docLink = document.createElement('div');\n",
              "        docLink.innerHTML = docLinkHtml;\n",
              "        element.appendChild(docLink);\n",
              "      }\n",
              "    </script>\n",
              "  </div>\n",
              "\n",
              "\n",
              "<div id=\"df-5f779941-922e-4f28-b137-228ad4854e28\">\n",
              "  <button class=\"colab-df-quickchart\" onclick=\"quickchart('df-5f779941-922e-4f28-b137-228ad4854e28')\"\n",
              "            title=\"Suggest charts\"\n",
              "            style=\"display:none;\">\n",
              "\n",
              "<svg xmlns=\"http://www.w3.org/2000/svg\" height=\"24px\"viewBox=\"0 0 24 24\"\n",
              "     width=\"24px\">\n",
              "    <g>\n",
              "        <path d=\"M19 3H5c-1.1 0-2 .9-2 2v14c0 1.1.9 2 2 2h14c1.1 0 2-.9 2-2V5c0-1.1-.9-2-2-2zM9 17H7v-7h2v7zm4 0h-2V7h2v10zm4 0h-2v-4h2v4z\"/>\n",
              "    </g>\n",
              "</svg>\n",
              "  </button>\n",
              "\n",
              "<style>\n",
              "  .colab-df-quickchart {\n",
              "      --bg-color: #E8F0FE;\n",
              "      --fill-color: #1967D2;\n",
              "      --hover-bg-color: #E2EBFA;\n",
              "      --hover-fill-color: #174EA6;\n",
              "      --disabled-fill-color: #AAA;\n",
              "      --disabled-bg-color: #DDD;\n",
              "  }\n",
              "\n",
              "  [theme=dark] .colab-df-quickchart {\n",
              "      --bg-color: #3B4455;\n",
              "      --fill-color: #D2E3FC;\n",
              "      --hover-bg-color: #434B5C;\n",
              "      --hover-fill-color: #FFFFFF;\n",
              "      --disabled-bg-color: #3B4455;\n",
              "      --disabled-fill-color: #666;\n",
              "  }\n",
              "\n",
              "  .colab-df-quickchart {\n",
              "    background-color: var(--bg-color);\n",
              "    border: none;\n",
              "    border-radius: 50%;\n",
              "    cursor: pointer;\n",
              "    display: none;\n",
              "    fill: var(--fill-color);\n",
              "    height: 32px;\n",
              "    padding: 0;\n",
              "    width: 32px;\n",
              "  }\n",
              "\n",
              "  .colab-df-quickchart:hover {\n",
              "    background-color: var(--hover-bg-color);\n",
              "    box-shadow: 0 1px 2px rgba(60, 64, 67, 0.3), 0 1px 3px 1px rgba(60, 64, 67, 0.15);\n",
              "    fill: var(--button-hover-fill-color);\n",
              "  }\n",
              "\n",
              "  .colab-df-quickchart-complete:disabled,\n",
              "  .colab-df-quickchart-complete:disabled:hover {\n",
              "    background-color: var(--disabled-bg-color);\n",
              "    fill: var(--disabled-fill-color);\n",
              "    box-shadow: none;\n",
              "  }\n",
              "\n",
              "  .colab-df-spinner {\n",
              "    border: 2px solid var(--fill-color);\n",
              "    border-color: transparent;\n",
              "    border-bottom-color: var(--fill-color);\n",
              "    animation:\n",
              "      spin 1s steps(1) infinite;\n",
              "  }\n",
              "\n",
              "  @keyframes spin {\n",
              "    0% {\n",
              "      border-color: transparent;\n",
              "      border-bottom-color: var(--fill-color);\n",
              "      border-left-color: var(--fill-color);\n",
              "    }\n",
              "    20% {\n",
              "      border-color: transparent;\n",
              "      border-left-color: var(--fill-color);\n",
              "      border-top-color: var(--fill-color);\n",
              "    }\n",
              "    30% {\n",
              "      border-color: transparent;\n",
              "      border-left-color: var(--fill-color);\n",
              "      border-top-color: var(--fill-color);\n",
              "      border-right-color: var(--fill-color);\n",
              "    }\n",
              "    40% {\n",
              "      border-color: transparent;\n",
              "      border-right-color: var(--fill-color);\n",
              "      border-top-color: var(--fill-color);\n",
              "    }\n",
              "    60% {\n",
              "      border-color: transparent;\n",
              "      border-right-color: var(--fill-color);\n",
              "    }\n",
              "    80% {\n",
              "      border-color: transparent;\n",
              "      border-right-color: var(--fill-color);\n",
              "      border-bottom-color: var(--fill-color);\n",
              "    }\n",
              "    90% {\n",
              "      border-color: transparent;\n",
              "      border-bottom-color: var(--fill-color);\n",
              "    }\n",
              "  }\n",
              "</style>\n",
              "\n",
              "  <script>\n",
              "    async function quickchart(key) {\n",
              "      const quickchartButtonEl =\n",
              "        document.querySelector('#' + key + ' button');\n",
              "      quickchartButtonEl.disabled = true;  // To prevent multiple clicks.\n",
              "      quickchartButtonEl.classList.add('colab-df-spinner');\n",
              "      try {\n",
              "        const charts = await google.colab.kernel.invokeFunction(\n",
              "            'suggestCharts', [key], {});\n",
              "      } catch (error) {\n",
              "        console.error('Error during call to suggestCharts:', error);\n",
              "      }\n",
              "      quickchartButtonEl.classList.remove('colab-df-spinner');\n",
              "      quickchartButtonEl.classList.add('colab-df-quickchart-complete');\n",
              "    }\n",
              "    (() => {\n",
              "      let quickchartButtonEl =\n",
              "        document.querySelector('#df-5f779941-922e-4f28-b137-228ad4854e28 button');\n",
              "      quickchartButtonEl.style.display =\n",
              "        google.colab.kernel.accessAllowed ? 'block' : 'none';\n",
              "    })();\n",
              "  </script>\n",
              "</div>\n",
              "    </div>\n",
              "  </div>\n"
            ]
          },
          "metadata": {},
          "execution_count": 21
        }
      ],
      "source": [
        "X_test.head(10)"
      ]
    },
    {
      "cell_type": "code",
      "execution_count": 22,
      "id": "7c4ad07d",
      "metadata": {
        "colab": {
          "base_uri": "https://localhost:8080/"
        },
        "id": "7c4ad07d",
        "outputId": "158d8b57-24a0-4c8f-957f-598701d76a41"
      },
      "outputs": [
        {
          "output_type": "stream",
          "name": "stdout",
          "text": [
            "\n",
            "The confusion matrix for Linear SVC C=50 is:\n",
            "[[  0 147   0]\n",
            " [  0 481   0]\n",
            " [  0 198   0]]\n"
          ]
        },
        {
          "output_type": "stream",
          "name": "stderr",
          "text": [
            "/usr/local/lib/python3.10/dist-packages/sklearn/svm/_base.py:1244: ConvergenceWarning: Liblinear failed to converge, increase the number of iterations.\n",
            "  warnings.warn(\n"
          ]
        }
      ],
      "source": [
        "SVM_Model1=LinearSVC(C=50)\n",
        "SVM_Model1.fit(X_train, y_train)\n",
        "\n",
        "#print(\"SVM prediction:\\n\", SVM_Model1.predict(TEST))\n",
        "#print(\"Actual:\")\n",
        "#print(TEST_Labels)\n",
        "\n",
        "SVM_matrix = confusion_matrix(y_test, SVM_Model1.predict(X_test))\n",
        "print(\"\\nThe confusion matrix for Linear SVC C=50 is:\")\n",
        "print(SVM_matrix)"
      ]
    },
    {
      "cell_type": "code",
      "execution_count": 23,
      "id": "1ef58468",
      "metadata": {
        "colab": {
          "base_uri": "https://localhost:8080/",
          "height": 556
        },
        "id": "1ef58468",
        "outputId": "e3c39a3b-a251-44ef-9f98-7516fb961146"
      },
      "outputs": [
        {
          "output_type": "stream",
          "name": "stdout",
          "text": [
            "\n",
            "The accurary is: 0.5823244552058111\n",
            "\n"
          ]
        },
        {
          "output_type": "display_data",
          "data": {
            "text/plain": [
              "<Figure size 1800x1500 with 0 Axes>"
            ]
          },
          "metadata": {}
        },
        {
          "output_type": "display_data",
          "data": {
            "text/plain": [
              "<Figure size 640x480 with 2 Axes>"
            ],
            "image/png": "[encoded data removed]"
          },
          "metadata": {}
        }
      ],
      "source": [
        "from sklearn.metrics import ConfusionMatrixDisplay, accuracy_score\n",
        "\n",
        "y_pred = SVM_Model1.predict(X_test)\n",
        "acc = accuracy_score(y_test, y_pred)\n",
        "print(f\"\\nThe accurary is: {acc}\\n\")\n",
        "\n",
        "disp = ConfusionMatrixDisplay(confusion_matrix=SVM_matrix, display_labels=SVM_Model1.classes_)\n",
        "plt.figure(figsize=(18, 15))\n",
        "disp.plot(cmap='magma')\n",
        "plt.title(\"Confusion Matrix:\")\n",
        "plt.tight_layout()\n",
        "plt.show()"
      ]
    },
    {
      "cell_type": "code",
      "source": [
        "SVM_Model1=LinearSVC(C=1)\n",
        "SVM_Model1.fit(X_train, y_train)\n",
        "\n",
        "#print(\"SVM prediction:\\n\", SVM_Model1.predict(TEST))\n",
        "#print(\"Actual:\")\n",
        "#print(TEST_Labels)\n",
        "\n",
        "SVM_matrix = confusion_matrix(y_test, SVM_Model1.predict(X_test))\n",
        "print(\"\\nThe confusion matrix for Linear SVC C=5 is:\")\n",
        "print(SVM_matrix)"
      ],
      "metadata": {
        "colab": {
          "base_uri": "https://localhost:8080/"
        },
        "id": "KsHyw8ScNYRM",
        "outputId": "a39840ad-4417-439e-c871-f07e55fa0f6e"
      },
      "id": "KsHyw8ScNYRM",
      "execution_count": 24,
      "outputs": [
        {
          "output_type": "stream",
          "name": "stdout",
          "text": [
            "\n",
            "The confusion matrix for Linear SVC C=5 is:\n",
            "[[ 63  72  12]\n",
            " [ 59 390  32]\n",
            " [  4 170  24]]\n"
          ]
        },
        {
          "output_type": "stream",
          "name": "stderr",
          "text": [
            "/usr/local/lib/python3.10/dist-packages/sklearn/svm/_base.py:1244: ConvergenceWarning: Liblinear failed to converge, increase the number of iterations.\n",
            "  warnings.warn(\n"
          ]
        }
      ]
    },
    {
      "cell_type": "code",
      "source": [
        "y_pred = SVM_Model1.predict(X_test)\n",
        "acc = accuracy_score(y_test, y_pred)\n",
        "print(f\"\\nThe accurary is: {acc}\\n\")\n",
        "\n",
        "disp = ConfusionMatrixDisplay(confusion_matrix=SVM_matrix, display_labels=SVM_Model1.classes_)\n",
        "plt.figure(figsize=(18, 15))\n",
        "disp.plot(cmap='magma')\n",
        "plt.title(\"Confusion Matrix:\")\n",
        "plt.tight_layout()\n",
        "plt.show()"
      ],
      "metadata": {
        "colab": {
          "base_uri": "https://localhost:8080/",
          "height": 556
        },
        "id": "mF2R1HvTNcQw",
        "outputId": "032a3862-0985-4dad-d73d-789f79300727"
      },
      "id": "mF2R1HvTNcQw",
      "execution_count": 25,
      "outputs": [
        {
          "output_type": "stream",
          "name": "stdout",
          "text": [
            "\n",
            "The accurary is: 0.5774818401937046\n",
            "\n"
          ]
        },
        {
          "output_type": "display_data",
          "data": {
            "text/plain": [
              "<Figure size 1800x1500 with 0 Axes>"
            ]
          },
          "metadata": {}
        },
        {
          "output_type": "display_data",
          "data": {
            "text/plain": [
              "<Figure size 640x480 with 2 Axes>"
            ],
            "image/png": "[encoded data removed]"
          },
          "metadata": {}
        }
      ]
    },
    {
      "cell_type": "code",
      "source": [
        "from sklearn.svm import SVC\n",
        "from sklearn.model_selection import GridSearchCV\n",
        "\n",
        "# defining parameter range\n",
        "param_grid = {'C': [0.1, 1, 10],\n",
        "              'gamma': [1, 0.1, 0.01]}\n",
        "\n",
        "grid = GridSearchCV(SVC(), param_grid, refit = True, verbose = 2)\n",
        "\n",
        "# fitting the model for grid search\n",
        "grid.fit(X_train, y_train)"
      ],
      "metadata": {
        "colab": {
          "base_uri": "https://localhost:8080/",
          "height": 915
        },
        "id": "wiRIXK-_fOS4",
        "outputId": "44d80252-cd32-4013-fb6c-18929d16f49c"
      },
      "id": "wiRIXK-_fOS4",
      "execution_count": 28,
      "outputs": [
        {
          "output_type": "stream",
          "name": "stdout",
          "text": [
            "Fitting 5 folds for each of 9 candidates, totalling 45 fits\n",
            "[CV] END .....................................C=0.1, gamma=1; total time=   0.6s\n",
            "[CV] END .....................................C=0.1, gamma=1; total time=   0.6s\n",
            "[CV] END .....................................C=0.1, gamma=1; total time=   0.6s\n",
            "[CV] END .....................................C=0.1, gamma=1; total time=   0.6s\n",
            "[CV] END .....................................C=0.1, gamma=1; total time=   0.6s\n",
            "[CV] END ...................................C=0.1, gamma=0.1; total time=   0.4s\n",
            "[CV] END ...................................C=0.1, gamma=0.1; total time=   0.4s\n",
            "[CV] END ...................................C=0.1, gamma=0.1; total time=   0.4s\n",
            "[CV] END ...................................C=0.1, gamma=0.1; total time=   0.4s\n",
            "[CV] END ...................................C=0.1, gamma=0.1; total time=   0.4s\n",
            "[CV] END ..................................C=0.1, gamma=0.01; total time=   0.3s\n",
            "[CV] END ..................................C=0.1, gamma=0.01; total time=   0.3s\n",
            "[CV] END ..................................C=0.1, gamma=0.01; total time=   0.4s\n",
            "[CV] END ..................................C=0.1, gamma=0.01; total time=   0.3s\n",
            "[CV] END ..................................C=0.1, gamma=0.01; total time=   0.3s\n",
            "[CV] END .......................................C=1, gamma=1; total time=   0.6s\n",
            "[CV] END .......................................C=1, gamma=1; total time=   0.9s\n",
            "[CV] END .......................................C=1, gamma=1; total time=   1.1s\n",
            "[CV] END .......................................C=1, gamma=1; total time=   1.1s\n",
            "[CV] END .......................................C=1, gamma=1; total time=   1.1s\n",
            "[CV] END .....................................C=1, gamma=0.1; total time=   0.7s\n",
            "[CV] END .....................................C=1, gamma=0.1; total time=   0.5s\n",
            "[CV] END .....................................C=1, gamma=0.1; total time=   0.5s\n",
            "[CV] END .....................................C=1, gamma=0.1; total time=   0.4s\n",
            "[CV] END .....................................C=1, gamma=0.1; total time=   0.4s\n",
            "[CV] END ....................................C=1, gamma=0.01; total time=   0.4s\n",
            "[CV] END ....................................C=1, gamma=0.01; total time=   0.4s\n",
            "[CV] END ....................................C=1, gamma=0.01; total time=   0.4s\n",
            "[CV] END ....................................C=1, gamma=0.01; total time=   0.4s\n",
            "[CV] END ....................................C=1, gamma=0.01; total time=   0.4s\n",
            "[CV] END ......................................C=10, gamma=1; total time=   0.7s\n",
            "[CV] END ......................................C=10, gamma=1; total time=   0.7s\n",
            "[CV] END ......................................C=10, gamma=1; total time=   0.7s\n",
            "[CV] END ......................................C=10, gamma=1; total time=   0.7s\n",
            "[CV] END ......................................C=10, gamma=1; total time=   0.7s\n",
            "[CV] END ....................................C=10, gamma=0.1; total time=   0.6s\n",
            "[CV] END ....................................C=10, gamma=0.1; total time=   0.6s\n",
            "[CV] END ....................................C=10, gamma=0.1; total time=   0.6s\n",
            "[CV] END ....................................C=10, gamma=0.1; total time=   0.6s\n",
            "[CV] END ....................................C=10, gamma=0.1; total time=   0.6s\n",
            "[CV] END ...................................C=10, gamma=0.01; total time=   0.9s\n",
            "[CV] END ...................................C=10, gamma=0.01; total time=   0.9s\n",
            "[CV] END ...................................C=10, gamma=0.01; total time=   0.9s\n",
            "[CV] END ...................................C=10, gamma=0.01; total time=   0.8s\n",
            "[CV] END ...................................C=10, gamma=0.01; total time=   0.9s\n"
          ]
        },
        {
          "output_type": "execute_result",
          "data": {
            "text/plain": [
              "GridSearchCV(estimator=SVC(),\n",
              "             param_grid={'C': [0.1, 1, 10], 'gamma': [1, 0.1, 0.01]},\n",
              "             verbose=2)"
            ],
            "text/html": [
              "<style>#sk-container-id-1 {color: black;background-color: white;}#sk-container-id-1 pre{padding: 0;}#sk-container-id-1 div.sk-toggleable {background-color: white;}#sk-container-id-1 label.sk-toggleable__label {cursor: pointer;display: block;width: 100%;margin-bottom: 0;padding: 0.3em;box-sizing: border-box;text-align: center;}#sk-container-id-1 label.sk-toggleable__label-arrow:before {content: \"▸\";float: left;margin-right: 0.25em;color: #696969;}#sk-container-id-1 label.sk-toggleable__label-arrow:hover:before {color: black;}#sk-container-id-1 div.sk-estimator:hover label.sk-toggleable__label-arrow:before {color: black;}#sk-container-id-1 div.sk-toggleable__content {max-height: 0;max-width: 0;overflow: hidden;text-align: left;background-color: #f0f8ff;}#sk-container-id-1 div.sk-toggleable__content pre {margin: 0.2em;color: black;border-radius: 0.25em;background-color: #f0f8ff;}#sk-container-id-1 input.sk-toggleable__control:checked~div.sk-toggleable__content {max-height: 200px;max-width: 100%;overflow: auto;}#sk-container-id-1 input.sk-toggleable__control:checked~label.sk-toggleable__label-arrow:before {content: \"▾\";}#sk-container-id-1 div.sk-estimator input.sk-toggleable__control:checked~label.sk-toggleable__label {background-color: #d4ebff;}#sk-container-id-1 div.sk-label input.sk-toggleable__control:checked~label.sk-toggleable__label {background-color: #d4ebff;}#sk-container-id-1 input.sk-hidden--visually {border: 0;clip: rect(1px 1px 1px 1px);clip: rect(1px, 1px, 1px, 1px);height: 1px;margin: -1px;overflow: hidden;padding: 0;position: absolute;width: 1px;}#sk-container-id-1 div.sk-estimator {font-family: monospace;background-color: #f0f8ff;border: 1px dotted black;border-radius: 0.25em;box-sizing: border-box;margin-bottom: 0.5em;}#sk-container-id-1 div.sk-estimator:hover {background-color: #d4ebff;}#sk-container-id-1 div.sk-parallel-item::after {content: \"\";width: 100%;border-bottom: 1px solid gray;flex-grow: 1;}#sk-container-id-1 div.sk-label:hover label.sk-toggleable__label {background-color: #d4ebff;}#sk-container-id-1 div.sk-serial::before {content: \"\";position: absolute;border-left: 1px solid gray;box-sizing: border-box;top: 0;bottom: 0;left: 50%;z-index: 0;}#sk-container-id-1 div.sk-serial {display: flex;flex-direction: column;align-items: center;background-color: white;padding-right: 0.2em;padding-left: 0.2em;position: relative;}#sk-container-id-1 div.sk-item {position: relative;z-index: 1;}#sk-container-id-1 div.sk-parallel {display: flex;align-items: stretch;justify-content: center;background-color: white;position: relative;}#sk-container-id-1 div.sk-item::before, #sk-container-id-1 div.sk-parallel-item::before {content: \"\";position: absolute;border-left: 1px solid gray;box-sizing: border-box;top: 0;bottom: 0;left: 50%;z-index: -1;}#sk-container-id-1 div.sk-parallel-item {display: flex;flex-direction: column;z-index: 1;position: relative;background-color: white;}#sk-container-id-1 div.sk-parallel-item:first-child::after {align-self: flex-end;width: 50%;}#sk-container-id-1 div.sk-parallel-item:last-child::after {align-self: flex-start;width: 50%;}#sk-container-id-1 div.sk-parallel-item:only-child::after {width: 0;}#sk-container-id-1 div.sk-dashed-wrapped {border: 1px dashed gray;margin: 0 0.4em 0.5em 0.4em;box-sizing: border-box;padding-bottom: 0.4em;background-color: white;}#sk-container-id-1 div.sk-label label {font-family: monospace;font-weight: bold;display: inline-block;line-height: 1.2em;}#sk-container-id-1 div.sk-label-container {text-align: center;}#sk-container-id-1 div.sk-container {/* jupyter's `normalize.less` sets `[hidden] { display: none; }` but bootstrap.min.css set `[hidden] { display: none !important; }` so we also need the `!important` here to be able to override the default hidden behavior on the sphinx rendered scikit-learn.org. See: https://github.com/scikit-learn/scikit-learn/issues/21755 */display: inline-block !important;position: relative;}#sk-container-id-1 div.sk-text-repr-fallback {display: none;}</style><div id=\"sk-container-id-1\" class=\"sk-top-container\"><div class=\"sk-text-repr-fallback\"><pre>GridSearchCV(estimator=SVC(),\n",
              "             param_grid={&#x27;C&#x27;: [0.1, 1, 10], &#x27;gamma&#x27;: [1, 0.1, 0.01]},\n",
              "             verbose=2)</pre><b>In a Jupyter environment, please rerun this cell to show the HTML representation or trust the notebook. <br />On GitHub, the HTML representation is unable to render, please try loading this page with nbviewer.org.</b></div><div class=\"sk-container\" hidden><div class=\"sk-item sk-dashed-wrapped\"><div class=\"sk-label-container\"><div class=\"sk-label sk-toggleable\"><input class=\"sk-toggleable__control sk-hidden--visually\" id=\"sk-estimator-id-1\" type=\"checkbox\" ><label for=\"sk-estimator-id-1\" class=\"sk-toggleable__label sk-toggleable__label-arrow\">GridSearchCV</label><div class=\"sk-toggleable__content\"><pre>GridSearchCV(estimator=SVC(),\n",
              "             param_grid={&#x27;C&#x27;: [0.1, 1, 10], &#x27;gamma&#x27;: [1, 0.1, 0.01]},\n",
              "             verbose=2)</pre></div></div></div><div class=\"sk-parallel\"><div class=\"sk-parallel-item\"><div class=\"sk-item\"><div class=\"sk-label-container\"><div class=\"sk-label sk-toggleable\"><input class=\"sk-toggleable__control sk-hidden--visually\" id=\"sk-estimator-id-2\" type=\"checkbox\" ><label for=\"sk-estimator-id-2\" class=\"sk-toggleable__label sk-toggleable__label-arrow\">estimator: SVC</label><div class=\"sk-toggleable__content\"><pre>SVC()</pre></div></div></div><div class=\"sk-serial\"><div class=\"sk-item\"><div class=\"sk-estimator sk-toggleable\"><input class=\"sk-toggleable__control sk-hidden--visually\" id=\"sk-estimator-id-3\" type=\"checkbox\" ><label for=\"sk-estimator-id-3\" class=\"sk-toggleable__label sk-toggleable__label-arrow\">SVC</label><div class=\"sk-toggleable__content\"><pre>SVC()</pre></div></div></div></div></div></div></div></div></div></div>"
            ]
          },
          "metadata": {},
          "execution_count": 28
        }
      ]
    },
    {
      "cell_type": "code",
      "source": [
        "# print best parameter after tuning\n",
        "print(grid.best_params_)\n",
        "\n",
        "# print how our model looks after hyper-parameter tuning\n",
        "print(grid.best_estimator_)"
      ],
      "metadata": {
        "colab": {
          "base_uri": "https://localhost:8080/"
        },
        "id": "Ev8flwkGgJgb",
        "outputId": "39401e4f-e378-401d-e23b-e6e37e9d6786"
      },
      "id": "Ev8flwkGgJgb",
      "execution_count": 29,
      "outputs": [
        {
          "output_type": "stream",
          "name": "stdout",
          "text": [
            "{'C': 10, 'gamma': 0.01}\n",
            "SVC(C=10, gamma=0.01)\n"
          ]
        }
      ]
    },
    {
      "cell_type": "code",
      "source": [
        "SVM_matrix = confusion_matrix(y_test, grid.predict(X_test))\n",
        "print(\"\\nThe confusion matrix for SVM after GridSearchCV() is:\")\n",
        "print(SVM_matrix)"
      ],
      "metadata": {
        "colab": {
          "base_uri": "https://localhost:8080/"
        },
        "id": "MonZDqzfgYjt",
        "outputId": "cde83577-cafd-4345-acf6-7e55138c5aba"
      },
      "id": "MonZDqzfgYjt",
      "execution_count": 30,
      "outputs": [
        {
          "output_type": "stream",
          "name": "stdout",
          "text": [
            "\n",
            "The confusion matrix for SVM after GridSearchCV() is:\n",
            "[[ 45  99   3]\n",
            " [ 32 417  32]\n",
            " [  3 146  49]]\n"
          ]
        }
      ]
    },
    {
      "cell_type": "code",
      "source": [
        "y_pred = grid.predict(X_test)\n",
        "acc = accuracy_score(y_test, y_pred)\n",
        "print(f\"\\nThe accurary is: {acc}\\n\")\n",
        "\n",
        "disp = ConfusionMatrixDisplay(confusion_matrix=SVM_matrix, display_labels=grid.classes_)\n",
        "plt.figure(figsize=(18, 15))\n",
        "disp.plot(cmap='magma')\n",
        "plt.title(\"Confusion Matrix:\")\n",
        "plt.tight_layout()\n",
        "plt.show()"
      ],
      "metadata": {
        "colab": {
          "base_uri": "https://localhost:8080/",
          "height": 556
        },
        "id": "QgngyKQPgv1z",
        "outputId": "c41f03a2-3236-4841-892f-77658d498813"
      },
      "id": "QgngyKQPgv1z",
      "execution_count": 31,
      "outputs": [
        {
          "output_type": "stream",
          "name": "stdout",
          "text": [
            "\n",
            "The accurary is: 0.6186440677966102\n",
            "\n"
          ]
        },
        {
          "output_type": "display_data",
          "data": {
            "text/plain": [
              "<Figure size 1800x1500 with 0 Axes>"
            ]
          },
          "metadata": {}
        },
        {
          "output_type": "display_data",
          "data": {
            "text/plain": [
              "<Figure size 640x480 with 2 Axes>"
            ],
            "image/png": "[encoded data removed]"
          },
          "metadata": {}
        }
      ]
    },
    {
      "cell_type": "code",
      "execution_count": 32,
      "id": "312500a1",
      "metadata": {
        "colab": {
          "base_uri": "https://localhost:8080/"
        },
        "id": "312500a1",
        "outputId": "3aa69761-e52c-4934-d7f1-ebdba82a0330"
      },
      "outputs": [
        {
          "output_type": "stream",
          "name": "stdout",
          "text": [
            "\n",
            "The confusion matrix for rbf SVM is:\n",
            "[[ 31 111   5]\n",
            " [ 15 427  39]\n",
            " [  3 137  58]]\n"
          ]
        }
      ],
      "source": [
        "## RBF\n",
        "SVM_Model2=sklearn.svm.SVC(C=1.0, kernel='rbf', degree=3, gamma=\"auto\")\n",
        "SVM_Model2.fit(X_train, y_train)\n",
        "\n",
        "#print(\"SVM prediction:\\n\", SVM_Model1.predict(TEST))\n",
        "#print(\"Actual:\")\n",
        "#print(TEST_Labels)\n",
        "\n",
        "SVM_matrix = confusion_matrix(y_test, SVM_Model2.predict(X_test))\n",
        "print(\"\\nThe confusion matrix for rbf SVM is:\")\n",
        "print(SVM_matrix)"
      ]
    },
    {
      "cell_type": "code",
      "execution_count": 33,
      "id": "c2900d3b",
      "metadata": {
        "colab": {
          "base_uri": "https://localhost:8080/",
          "height": 556
        },
        "id": "c2900d3b",
        "outputId": "a5fc3521-163f-4090-a053-ed4bb0062e56"
      },
      "outputs": [
        {
          "output_type": "stream",
          "name": "stdout",
          "text": [
            "\n",
            "The accurary is: 0.6246973365617433\n",
            "\n"
          ]
        },
        {
          "output_type": "display_data",
          "data": {
            "text/plain": [
              "<Figure size 1800x1500 with 0 Axes>"
            ]
          },
          "metadata": {}
        },
        {
          "output_type": "display_data",
          "data": {
            "text/plain": [
              "<Figure size 640x480 with 2 Axes>"
            ],
            "image/png": "[encoded data removed]"
          },
          "metadata": {}
        }
      ],
      "source": [
        "y_pred = SVM_Model2.predict(X_test)\n",
        "acc = accuracy_score(y_test, y_pred)\n",
        "print(f\"\\nThe accurary is: {acc}\\n\")\n",
        "\n",
        "disp = ConfusionMatrixDisplay(confusion_matrix=SVM_matrix, display_labels=SVM_Model2.classes_)\n",
        "plt.figure(figsize=(18, 15))\n",
        "disp.plot(cmap='magma')\n",
        "plt.title(\"Confusion Matrix:\")\n",
        "plt.tight_layout()\n",
        "plt.show()"
      ]
    },
    {
      "cell_type": "code",
      "execution_count": null,
      "id": "ff033212",
      "metadata": {
        "colab": {
          "base_uri": "https://localhost:8080/"
        },
        "id": "ff033212",
        "outputId": "3f73b84b-9341-4349-8c3b-94dc2e4f3bc0"
      },
      "outputs": [
        {
          "output_type": "stream",
          "name": "stdout",
          "text": [
            "\n",
            "The confusion matrix for poly p = 2 SVM is:\n",
            "[[ 26 121   0]\n",
            " [ 15 459   7]\n",
            " [  1 188   9]]\n"
          ]
        }
      ],
      "source": [
        "## POLY\n",
        "SVM_Model3=sklearn.svm.SVC(C=1.0, kernel='poly', degree=2, gamma=\"auto\")\n",
        "SVM_Model3.fit(X_train, y_train)\n",
        "\n",
        "#print(\"SVM prediction:\\n\", SVM_Model1.predict(TEST))\n",
        "#print(\"Actual:\")\n",
        "#print(TEST_Labels)\n",
        "\n",
        "SVM_matrix = confusion_matrix(y_test, SVM_Model3.predict(X_test))\n",
        "print(\"\\nThe confusion matrix for poly p = 2 SVM is:\")\n",
        "print(SVM_matrix)"
      ]
    },
    {
      "cell_type": "code",
      "execution_count": null,
      "id": "1deedda3",
      "metadata": {
        "colab": {
          "base_uri": "https://localhost:8080/",
          "height": 556
        },
        "id": "1deedda3",
        "outputId": "ac6cd0f6-c98c-40d6-8508-d2025130d8f4"
      },
      "outputs": [
        {
          "output_type": "stream",
          "name": "stdout",
          "text": [
            "\n",
            "The accurary is: 0.5980629539951574\n",
            "\n"
          ]
        },
        {
          "output_type": "display_data",
          "data": {
            "text/plain": [
              "<Figure size 1800x1500 with 0 Axes>"
            ]
          },
          "metadata": {}
        },
        {
          "output_type": "display_data",
          "data": {
            "text/plain": [
              "<Figure size 640x480 with 2 Axes>"
            ],
            "image/png": "[encoded data removed]"
          },
          "metadata": {}
        }
      ],
      "source": [
        "y_pred = SVM_Model3.predict(X_test)\n",
        "acc = accuracy_score(y_test, y_pred)\n",
        "print(f\"\\nThe accurary is: {acc}\\n\")\n",
        "\n",
        "disp = ConfusionMatrixDisplay(confusion_matrix=SVM_matrix, display_labels=SVM_Model3.classes_)\n",
        "plt.figure(figsize=(18, 15))\n",
        "disp.plot(cmap='magma')\n",
        "plt.title(\"Confusion Matrix:\")\n",
        "plt.tight_layout()\n",
        "plt.show()"
      ]
    },
    {
      "cell_type": "code",
      "execution_count": null,
      "id": "93c9ff97",
      "metadata": {
        "id": "93c9ff97"
      },
      "outputs": [],
      "source": [
        "## POLY\n",
        "# SVM_Model4=sklearn.svm.SVC(C=1.0, kernel='poly', degree=3, gamma=\"auto\")\n",
        "# SVM_Model4.fit(X_train, y_train)\n",
        "\n",
        "# #print(\"SVM prediction:\\n\", SVM_Model1.predict(TEST))\n",
        "# #print(\"Actual:\")\n",
        "# #print(TEST_Labels)\n",
        "\n",
        "# SVM_matrix = confusion_matrix(y_test, SVM_Model4.predict(X_test))\n",
        "# print(\"\\nThe confusion matrix for poly p = 3 SVM is:\")\n",
        "# print(SVM_matrix)"
      ]
    },
    {
      "cell_type": "code",
      "execution_count": null,
      "id": "8cfb98a3",
      "metadata": {
        "id": "8cfb98a3"
      },
      "outputs": [],
      "source": [
        "# y_pred = SVM_Model4.predict(X_test)\n",
        "# acc = accuracy_score(y_test, y_pred)\n",
        "# print(f\"\\nThe accurary is: {acc}\\n\")\n",
        "\n",
        "# disp = ConfusionMatrixDisplay(confusion_matrix=SVM_matrix, display_labels=SVM_Model4.classes_)\n",
        "# plt.figure(figsize=(18, 15))\n",
        "# disp.plot(cmap='magma')\n",
        "# plt.title(\"Confusion Matrix:\")\n",
        "# plt.tight_layout()\n",
        "# plt.show()"
      ]
    },
    {
      "cell_type": "code",
      "execution_count": 34,
      "id": "974aa1cd",
      "metadata": {
        "id": "974aa1cd"
      },
      "outputs": [],
      "source": [
        "from imblearn.over_sampling import RandomOverSampler\n",
        "\n",
        "ros = RandomOverSampler()\n",
        "X, y = ros.fit_resample(X, y)"
      ]
    },
    {
      "cell_type": "code",
      "execution_count": 35,
      "id": "ec54df95",
      "metadata": {
        "id": "ec54df95"
      },
      "outputs": [],
      "source": [
        "X_train, X_test, y_train, y_test = train_test_split(X, y, test_size = 0.2, random_state = 42)"
      ]
    },
    {
      "cell_type": "code",
      "execution_count": 65,
      "id": "5128340c",
      "metadata": {
        "colab": {
          "base_uri": "https://localhost:8080/"
        },
        "id": "5128340c",
        "outputId": "4de5ee47-f2ac-4c55-9a84-589520fd99e3"
      },
      "outputs": [
        {
          "output_type": "stream",
          "name": "stdout",
          "text": [
            "\n",
            "The confusion matrix for Linear SVC is:\n",
            "[[370   3  98]\n",
            " [267   1 199]\n",
            " [204   0 288]]\n"
          ]
        },
        {
          "output_type": "stream",
          "name": "stderr",
          "text": [
            "/usr/local/lib/python3.10/dist-packages/sklearn/svm/_base.py:1244: ConvergenceWarning: Liblinear failed to converge, increase the number of iterations.\n",
            "  warnings.warn(\n"
          ]
        }
      ],
      "source": [
        "SVM_Model1=LinearSVC(C=10)\n",
        "SVM_Model1.fit(X_train, y_train)\n",
        "\n",
        "#print(\"SVM prediction:\\n\", SVM_Model1.predict(TEST))\n",
        "#print(\"Actual:\")\n",
        "#print(TEST_Labels)\n",
        "\n",
        "SVM_matrix = confusion_matrix(y_test, SVM_Model1.predict(X_test))\n",
        "print(\"\\nThe confusion matrix for Linear SVC is:\")\n",
        "print(SVM_matrix)"
      ]
    },
    {
      "cell_type": "code",
      "execution_count": 66,
      "id": "a6758d38",
      "metadata": {
        "colab": {
          "base_uri": "https://localhost:8080/",
          "height": 556
        },
        "id": "a6758d38",
        "outputId": "1bff96c1-a744-4192-fcf6-be5ef64b22c1"
      },
      "outputs": [
        {
          "output_type": "stream",
          "name": "stdout",
          "text": [
            "\n",
            "The accurary is: 0.4608391608391608\n",
            "\n"
          ]
        },
        {
          "output_type": "display_data",
          "data": {
            "text/plain": [
              "<Figure size 1800x1500 with 0 Axes>"
            ]
          },
          "metadata": {}
        },
        {
          "output_type": "display_data",
          "data": {
            "text/plain": [
              "<Figure size 640x480 with 2 Axes>"
            ],
            "image/png": "[encoded data removed]"
          },
          "metadata": {}
        }
      ],
      "source": [
        "from sklearn.metrics import ConfusionMatrixDisplay, accuracy_score\n",
        "\n",
        "y_pred = SVM_Model1.predict(X_test)\n",
        "acc = accuracy_score(y_test, y_pred)\n",
        "print(f\"\\nThe accurary is: {acc}\\n\")\n",
        "\n",
        "disp = ConfusionMatrixDisplay(confusion_matrix=SVM_matrix, display_labels=SVM_Model1.classes_)\n",
        "plt.figure(figsize=(18, 15))\n",
        "disp.plot(cmap='magma')\n",
        "plt.title(\"Confusion Matrix:\")\n",
        "plt.tight_layout()\n",
        "plt.show()"
      ]
    },
    {
      "cell_type": "code",
      "execution_count": 38,
      "id": "da347cc4",
      "metadata": {
        "colab": {
          "base_uri": "https://localhost:8080/"
        },
        "id": "da347cc4",
        "outputId": "b50a738a-88be-4b04-8f69-015124d62838"
      },
      "outputs": [
        {
          "output_type": "stream",
          "name": "stdout",
          "text": [
            "\n",
            "The confusion matrix for rbf SVM is:\n",
            "[[383  67  21]\n",
            " [ 69 294 104]\n",
            " [ 24  75 393]]\n"
          ]
        }
      ],
      "source": [
        "## RBF\n",
        "SVM_Model2=sklearn.svm.SVC(C=1.0, kernel='rbf', degree=3, gamma=\"auto\")\n",
        "SVM_Model2.fit(X_train, y_train)\n",
        "\n",
        "#print(\"SVM prediction:\\n\", SVM_Model1.predict(TEST))\n",
        "#print(\"Actual:\")\n",
        "#print(TEST_Labels)\n",
        "\n",
        "SVM_matrix = confusion_matrix(y_test, SVM_Model2.predict(X_test))\n",
        "print(\"\\nThe confusion matrix for rbf SVM is:\")\n",
        "print(SVM_matrix)"
      ]
    },
    {
      "cell_type": "code",
      "execution_count": 39,
      "id": "d9f13d5d",
      "metadata": {
        "colab": {
          "base_uri": "https://localhost:8080/",
          "height": 556
        },
        "id": "d9f13d5d",
        "outputId": "b546e705-d27f-4702-e6e7-42fd10a13b9c"
      },
      "outputs": [
        {
          "output_type": "stream",
          "name": "stdout",
          "text": [
            "\n",
            "The accurary is: 0.7482517482517482\n",
            "\n"
          ]
        },
        {
          "output_type": "display_data",
          "data": {
            "text/plain": [
              "<Figure size 1800x1500 with 0 Axes>"
            ]
          },
          "metadata": {}
        },
        {
          "output_type": "display_data",
          "data": {
            "text/plain": [
              "<Figure size 640x480 with 2 Axes>"
            ],
            "image/png": "[encoded data removed]"
          },
          "metadata": {}
        }
      ],
      "source": [
        "y_pred = SVM_Model2.predict(X_test)\n",
        "acc = accuracy_score(y_test, y_pred)\n",
        "print(f\"\\nThe accurary is: {acc}\\n\")\n",
        "\n",
        "disp = ConfusionMatrixDisplay(confusion_matrix=SVM_matrix, display_labels=SVM_Model2.classes_)\n",
        "plt.figure(figsize=(18, 15))\n",
        "disp.plot(cmap='magma')\n",
        "plt.title(\"Confusion Matrix:\")\n",
        "plt.tight_layout()\n",
        "plt.show()"
      ]
    },
    {
      "cell_type": "code",
      "source": [
        "# defining parameter range\n",
        "param_grid = {'C': [0.1, 1, 10],\n",
        "              'gamma': [1, 0.1, 0.01],\n",
        "              'kernel': ['rbf']}\n",
        "\n",
        "grid = GridSearchCV(SVC(), param_grid, refit = True, verbose = 3)\n",
        "\n",
        "# fitting the model for grid search\n",
        "grid.fit(X_train, y_train)"
      ],
      "metadata": {
        "colab": {
          "base_uri": "https://localhost:8080/",
          "height": 915
        },
        "id": "3i2t9SjIsX07",
        "outputId": "018df356-6859-4b81-b977-b4e6ab5d0aa2"
      },
      "id": "3i2t9SjIsX07",
      "execution_count": 41,
      "outputs": [
        {
          "output_type": "stream",
          "name": "stdout",
          "text": [
            "Fitting 5 folds for each of 9 candidates, totalling 45 fits\n",
            "[CV 1/5] END ........C=0.1, gamma=1, kernel=rbf;, score=0.485 total time=   2.3s\n",
            "[CV 2/5] END ........C=0.1, gamma=1, kernel=rbf;, score=0.406 total time=   1.7s\n",
            "[CV 3/5] END ........C=0.1, gamma=1, kernel=rbf;, score=0.413 total time=   1.6s\n",
            "[CV 4/5] END ........C=0.1, gamma=1, kernel=rbf;, score=0.466 total time=   1.7s\n",
            "[CV 5/5] END ........C=0.1, gamma=1, kernel=rbf;, score=0.404 total time=   1.7s\n",
            "[CV 1/5] END ......C=0.1, gamma=0.1, kernel=rbf;, score=0.561 total time=   1.3s\n",
            "[CV 2/5] END ......C=0.1, gamma=0.1, kernel=rbf;, score=0.555 total time=   1.4s\n",
            "[CV 3/5] END ......C=0.1, gamma=0.1, kernel=rbf;, score=0.530 total time=   2.2s\n",
            "[CV 4/5] END ......C=0.1, gamma=0.1, kernel=rbf;, score=0.574 total time=   2.1s\n",
            "[CV 5/5] END ......C=0.1, gamma=0.1, kernel=rbf;, score=0.539 total time=   1.3s\n",
            "[CV 1/5] END .....C=0.1, gamma=0.01, kernel=rbf;, score=0.589 total time=   1.1s\n",
            "[CV 2/5] END .....C=0.1, gamma=0.01, kernel=rbf;, score=0.585 total time=   1.1s\n",
            "[CV 3/5] END .....C=0.1, gamma=0.01, kernel=rbf;, score=0.566 total time=   1.1s\n",
            "[CV 4/5] END .....C=0.1, gamma=0.01, kernel=rbf;, score=0.571 total time=   1.1s\n",
            "[CV 5/5] END .....C=0.1, gamma=0.01, kernel=rbf;, score=0.571 total time=   1.1s\n",
            "[CV 1/5] END ..........C=1, gamma=1, kernel=rbf;, score=0.796 total time=   1.6s\n",
            "[CV 2/5] END ..........C=1, gamma=1, kernel=rbf;, score=0.786 total time=   1.5s\n",
            "[CV 3/5] END ..........C=1, gamma=1, kernel=rbf;, score=0.800 total time=   2.5s\n",
            "[CV 4/5] END ..........C=1, gamma=1, kernel=rbf;, score=0.803 total time=   2.3s\n",
            "[CV 5/5] END ..........C=1, gamma=1, kernel=rbf;, score=0.791 total time=   1.6s\n",
            "[CV 1/5] END ........C=1, gamma=0.1, kernel=rbf;, score=0.667 total time=   1.2s\n",
            "[CV 2/5] END ........C=1, gamma=0.1, kernel=rbf;, score=0.677 total time=   1.2s\n",
            "[CV 3/5] END ........C=1, gamma=0.1, kernel=rbf;, score=0.659 total time=   1.2s\n",
            "[CV 4/5] END ........C=1, gamma=0.1, kernel=rbf;, score=0.682 total time=   1.2s\n",
            "[CV 5/5] END ........C=1, gamma=0.1, kernel=rbf;, score=0.655 total time=   1.2s\n",
            "[CV 1/5] END .......C=1, gamma=0.01, kernel=rbf;, score=0.604 total time=   1.1s\n",
            "[CV 2/5] END .......C=1, gamma=0.01, kernel=rbf;, score=0.603 total time=   1.1s\n",
            "[CV 3/5] END .......C=1, gamma=0.01, kernel=rbf;, score=0.589 total time=   1.8s\n",
            "[CV 4/5] END .......C=1, gamma=0.01, kernel=rbf;, score=0.608 total time=   1.8s\n",
            "[CV 5/5] END .......C=1, gamma=0.01, kernel=rbf;, score=0.597 total time=   1.5s\n",
            "[CV 1/5] END .........C=10, gamma=1, kernel=rbf;, score=0.817 total time=   1.4s\n",
            "[CV 2/5] END .........C=10, gamma=1, kernel=rbf;, score=0.807 total time=   1.3s\n",
            "[CV 3/5] END .........C=10, gamma=1, kernel=rbf;, score=0.820 total time=   1.3s\n",
            "[CV 4/5] END .........C=10, gamma=1, kernel=rbf;, score=0.819 total time=   1.4s\n",
            "[CV 5/5] END .........C=10, gamma=1, kernel=rbf;, score=0.808 total time=   1.3s\n",
            "[CV 1/5] END .......C=10, gamma=0.1, kernel=rbf;, score=0.707 total time=   1.4s\n",
            "[CV 2/5] END .......C=10, gamma=0.1, kernel=rbf;, score=0.720 total time=   1.4s\n",
            "[CV 3/5] END .......C=10, gamma=0.1, kernel=rbf;, score=0.700 total time=   2.3s\n",
            "[CV 4/5] END .......C=10, gamma=0.1, kernel=rbf;, score=0.707 total time=   2.3s\n",
            "[CV 5/5] END .......C=10, gamma=0.1, kernel=rbf;, score=0.707 total time=   1.4s\n",
            "[CV 1/5] END ......C=10, gamma=0.01, kernel=rbf;, score=0.628 total time=   1.3s\n",
            "[CV 2/5] END ......C=10, gamma=0.01, kernel=rbf;, score=0.622 total time=   1.3s\n",
            "[CV 3/5] END ......C=10, gamma=0.01, kernel=rbf;, score=0.594 total time=   1.4s\n",
            "[CV 4/5] END ......C=10, gamma=0.01, kernel=rbf;, score=0.615 total time=   1.3s\n",
            "[CV 5/5] END ......C=10, gamma=0.01, kernel=rbf;, score=0.612 total time=   1.3s\n"
          ]
        },
        {
          "output_type": "execute_result",
          "data": {
            "text/plain": [
              "GridSearchCV(estimator=SVC(),\n",
              "             param_grid={'C': [0.1, 1, 10], 'gamma': [1, 0.1, 0.01],\n",
              "                         'kernel': ['rbf']},\n",
              "             verbose=3)"
            ],
            "text/html": [
              "<style>#sk-container-id-2 {color: black;background-color: white;}#sk-container-id-2 pre{padding: 0;}#sk-container-id-2 div.sk-toggleable {background-color: white;}#sk-container-id-2 label.sk-toggleable__label {cursor: pointer;display: block;width: 100%;margin-bottom: 0;padding: 0.3em;box-sizing: border-box;text-align: center;}#sk-container-id-2 label.sk-toggleable__label-arrow:before {content: \"▸\";float: left;margin-right: 0.25em;color: #696969;}#sk-container-id-2 label.sk-toggleable__label-arrow:hover:before {color: black;}#sk-container-id-2 div.sk-estimator:hover label.sk-toggleable__label-arrow:before {color: black;}#sk-container-id-2 div.sk-toggleable__content {max-height: 0;max-width: 0;overflow: hidden;text-align: left;background-color: #f0f8ff;}#sk-container-id-2 div.sk-toggleable__content pre {margin: 0.2em;color: black;border-radius: 0.25em;background-color: #f0f8ff;}#sk-container-id-2 input.sk-toggleable__control:checked~div.sk-toggleable__content {max-height: 200px;max-width: 100%;overflow: auto;}#sk-container-id-2 input.sk-toggleable__control:checked~label.sk-toggleable__label-arrow:before {content: \"▾\";}#sk-container-id-2 div.sk-estimator input.sk-toggleable__control:checked~label.sk-toggleable__label {background-color: #d4ebff;}#sk-container-id-2 div.sk-label input.sk-toggleable__control:checked~label.sk-toggleable__label {background-color: #d4ebff;}#sk-container-id-2 input.sk-hidden--visually {border: 0;clip: rect(1px 1px 1px 1px);clip: rect(1px, 1px, 1px, 1px);height: 1px;margin: -1px;overflow: hidden;padding: 0;position: absolute;width: 1px;}#sk-container-id-2 div.sk-estimator {font-family: monospace;background-color: #f0f8ff;border: 1px dotted black;border-radius: 0.25em;box-sizing: border-box;margin-bottom: 0.5em;}#sk-container-id-2 div.sk-estimator:hover {background-color: #d4ebff;}#sk-container-id-2 div.sk-parallel-item::after {content: \"\";width: 100%;border-bottom: 1px solid gray;flex-grow: 1;}#sk-container-id-2 div.sk-label:hover label.sk-toggleable__label {background-color: #d4ebff;}#sk-container-id-2 div.sk-serial::before {content: \"\";position: absolute;border-left: 1px solid gray;box-sizing: border-box;top: 0;bottom: 0;left: 50%;z-index: 0;}#sk-container-id-2 div.sk-serial {display: flex;flex-direction: column;align-items: center;background-color: white;padding-right: 0.2em;padding-left: 0.2em;position: relative;}#sk-container-id-2 div.sk-item {position: relative;z-index: 1;}#sk-container-id-2 div.sk-parallel {display: flex;align-items: stretch;justify-content: center;background-color: white;position: relative;}#sk-container-id-2 div.sk-item::before, #sk-container-id-2 div.sk-parallel-item::before {content: \"\";position: absolute;border-left: 1px solid gray;box-sizing: border-box;top: 0;bottom: 0;left: 50%;z-index: -1;}#sk-container-id-2 div.sk-parallel-item {display: flex;flex-direction: column;z-index: 1;position: relative;background-color: white;}#sk-container-id-2 div.sk-parallel-item:first-child::after {align-self: flex-end;width: 50%;}#sk-container-id-2 div.sk-parallel-item:last-child::after {align-self: flex-start;width: 50%;}#sk-container-id-2 div.sk-parallel-item:only-child::after {width: 0;}#sk-container-id-2 div.sk-dashed-wrapped {border: 1px dashed gray;margin: 0 0.4em 0.5em 0.4em;box-sizing: border-box;padding-bottom: 0.4em;background-color: white;}#sk-container-id-2 div.sk-label label {font-family: monospace;font-weight: bold;display: inline-block;line-height: 1.2em;}#sk-container-id-2 div.sk-label-container {text-align: center;}#sk-container-id-2 div.sk-container {/* jupyter's `normalize.less` sets `[hidden] { display: none; }` but bootstrap.min.css set `[hidden] { display: none !important; }` so we also need the `!important` here to be able to override the default hidden behavior on the sphinx rendered scikit-learn.org. See: https://github.com/scikit-learn/scikit-learn/issues/21755 */display: inline-block !important;position: relative;}#sk-container-id-2 div.sk-text-repr-fallback {display: none;}</style><div id=\"sk-container-id-2\" class=\"sk-top-container\"><div class=\"sk-text-repr-fallback\"><pre>GridSearchCV(estimator=SVC(),\n",
              "             param_grid={&#x27;C&#x27;: [0.1, 1, 10], &#x27;gamma&#x27;: [1, 0.1, 0.01],\n",
              "                         &#x27;kernel&#x27;: [&#x27;rbf&#x27;]},\n",
              "             verbose=3)</pre><b>In a Jupyter environment, please rerun this cell to show the HTML representation or trust the notebook. <br />On GitHub, the HTML representation is unable to render, please try loading this page with nbviewer.org.</b></div><div class=\"sk-container\" hidden><div class=\"sk-item sk-dashed-wrapped\"><div class=\"sk-label-container\"><div class=\"sk-label sk-toggleable\"><input class=\"sk-toggleable__control sk-hidden--visually\" id=\"sk-estimator-id-4\" type=\"checkbox\" ><label for=\"sk-estimator-id-4\" class=\"sk-toggleable__label sk-toggleable__label-arrow\">GridSearchCV</label><div class=\"sk-toggleable__content\"><pre>GridSearchCV(estimator=SVC(),\n",
              "             param_grid={&#x27;C&#x27;: [0.1, 1, 10], &#x27;gamma&#x27;: [1, 0.1, 0.01],\n",
              "                         &#x27;kernel&#x27;: [&#x27;rbf&#x27;]},\n",
              "             verbose=3)</pre></div></div></div><div class=\"sk-parallel\"><div class=\"sk-parallel-item\"><div class=\"sk-item\"><div class=\"sk-label-container\"><div class=\"sk-label sk-toggleable\"><input class=\"sk-toggleable__control sk-hidden--visually\" id=\"sk-estimator-id-5\" type=\"checkbox\" ><label for=\"sk-estimator-id-5\" class=\"sk-toggleable__label sk-toggleable__label-arrow\">estimator: SVC</label><div class=\"sk-toggleable__content\"><pre>SVC()</pre></div></div></div><div class=\"sk-serial\"><div class=\"sk-item\"><div class=\"sk-estimator sk-toggleable\"><input class=\"sk-toggleable__control sk-hidden--visually\" id=\"sk-estimator-id-6\" type=\"checkbox\" ><label for=\"sk-estimator-id-6\" class=\"sk-toggleable__label sk-toggleable__label-arrow\">SVC</label><div class=\"sk-toggleable__content\"><pre>SVC()</pre></div></div></div></div></div></div></div></div></div></div>"
            ]
          },
          "metadata": {},
          "execution_count": 41
        }
      ]
    },
    {
      "cell_type": "code",
      "source": [
        "# print best parameter after tuning\n",
        "print(grid.best_params_)\n",
        "\n",
        "# print how our model looks after hyper-parameter tuning\n",
        "print(grid.best_estimator_)"
      ],
      "metadata": {
        "colab": {
          "base_uri": "https://localhost:8080/"
        },
        "id": "3sxx9bocst84",
        "outputId": "3e85dedb-64bb-482c-c7b1-aa168fcc984a"
      },
      "id": "3sxx9bocst84",
      "execution_count": 42,
      "outputs": [
        {
          "output_type": "stream",
          "name": "stdout",
          "text": [
            "{'C': 10, 'gamma': 1, 'kernel': 'rbf'}\n",
            "SVC(C=10, gamma=1)\n"
          ]
        }
      ]
    },
    {
      "cell_type": "code",
      "source": [
        "y_pred = grid.predict(X_test)\n",
        "acc = accuracy_score(y_test, y_pred)\n",
        "print(f\"\\nThe accurary is: {acc}\\n\")\n",
        "\n",
        "disp = ConfusionMatrixDisplay(confusion_matrix=SVM_matrix, display_labels=grid.classes_)\n",
        "plt.figure(figsize=(18, 15))\n",
        "disp.plot(cmap='magma')\n",
        "plt.title(\"Confusion Matrix:\")\n",
        "plt.tight_layout()\n",
        "plt.show()"
      ],
      "metadata": {
        "id": "gvxX1Kxhs7-m",
        "colab": {
          "base_uri": "https://localhost:8080/",
          "height": 556
        },
        "outputId": "cbcec83b-7c18-40ba-8abd-15d2ae098a4b"
      },
      "id": "gvxX1Kxhs7-m",
      "execution_count": 43,
      "outputs": [
        {
          "output_type": "stream",
          "name": "stdout",
          "text": [
            "\n",
            "The accurary is: 0.8615384615384616\n",
            "\n"
          ]
        },
        {
          "output_type": "display_data",
          "data": {
            "text/plain": [
              "<Figure size 1800x1500 with 0 Axes>"
            ]
          },
          "metadata": {}
        },
        {
          "output_type": "display_data",
          "data": {
            "text/plain": [
              "<Figure size 640x480 with 2 Axes>"
            ],
            "image/png": "[encoded data removed]"
          },
          "metadata": {}
        }
      ]
    },
    {
      "cell_type": "code",
      "source": [
        "## BEST RBF\n",
        "SVM_Model2=sklearn.svm.SVC(C=10.0, kernel='rbf', degree=3, gamma=1)\n",
        "SVM_Model2.fit(X_train, y_train)\n",
        "\n",
        "#print(\"SVM prediction:\\n\", SVM_Model1.predict(TEST))\n",
        "#print(\"Actual:\")\n",
        "#print(TEST_Labels)\n",
        "\n",
        "SVM_matrix = confusion_matrix(y_test, SVM_Model2.predict(X_test))\n",
        "print(\"\\nThe confusion matrix for rbf SVM is:\")\n",
        "print(SVM_matrix)"
      ],
      "metadata": {
        "colab": {
          "base_uri": "https://localhost:8080/"
        },
        "id": "e6tOIjZLyFrx",
        "outputId": "7ee6d40a-df24-4637-fba9-51dc3c061ea8"
      },
      "id": "e6tOIjZLyFrx",
      "execution_count": 44,
      "outputs": [
        {
          "output_type": "stream",
          "name": "stdout",
          "text": [
            "\n",
            "The confusion matrix for rbf SVM is:\n",
            "[[447  23   1]\n",
            " [ 25 381  61]\n",
            " [  5  83 404]]\n"
          ]
        }
      ]
    },
    {
      "cell_type": "code",
      "source": [
        "y_pred = SVM_Model2.predict(X_test)\n",
        "acc = accuracy_score(y_test, y_pred)\n",
        "print(f\"\\nThe accurary is: {acc}\\n\")\n",
        "\n",
        "disp = ConfusionMatrixDisplay(confusion_matrix=SVM_matrix, display_labels=SVM_Model2.classes_)\n",
        "plt.figure(figsize=(18, 15))\n",
        "disp.plot(cmap='magma')\n",
        "plt.title(\"Confusion Matrix:\")\n",
        "plt.tight_layout()\n",
        "plt.show()"
      ],
      "metadata": {
        "colab": {
          "base_uri": "https://localhost:8080/",
          "height": 556
        },
        "id": "FZR5VBqcyF6D",
        "outputId": "c1b4ad58-4582-46b6-dd84-4e807f674400"
      },
      "id": "FZR5VBqcyF6D",
      "execution_count": 45,
      "outputs": [
        {
          "output_type": "stream",
          "name": "stdout",
          "text": [
            "\n",
            "The accurary is: 0.8615384615384616\n",
            "\n"
          ]
        },
        {
          "output_type": "display_data",
          "data": {
            "text/plain": [
              "<Figure size 1800x1500 with 0 Axes>"
            ]
          },
          "metadata": {}
        },
        {
          "output_type": "display_data",
          "data": {
            "text/plain": [
              "<Figure size 640x480 with 2 Axes>"
            ],
            "image/png": "[encoded data removed]"
          },
          "metadata": {}
        }
      ]
    },
    {
      "cell_type": "code",
      "execution_count": null,
      "id": "4e26ecd3",
      "metadata": {
        "colab": {
          "base_uri": "https://localhost:8080/"
        },
        "id": "4e26ecd3",
        "outputId": "a1454f2c-dcdc-4070-bb6c-606bf837b79b"
      },
      "outputs": [
        {
          "output_type": "stream",
          "name": "stdout",
          "text": [
            "\n",
            "The confusion matrix for poly p = 2 SVM is:\n",
            "[[296  99  76]\n",
            " [100 202 165]\n",
            " [ 41 104 347]]\n"
          ]
        }
      ],
      "source": [
        "## POLY\n",
        "SVM_Model3=sklearn.svm.SVC(C=1.0, kernel='poly', degree=2, gamma=\"auto\")\n",
        "SVM_Model3.fit(X_train, y_train)\n",
        "\n",
        "#print(\"SVM prediction:\\n\", SVM_Model1.predict(TEST))\n",
        "#print(\"Actual:\")\n",
        "#print(TEST_Labels)\n",
        "\n",
        "SVM_matrix = confusion_matrix(y_test, SVM_Model3.predict(X_test))\n",
        "print(\"\\nThe confusion matrix for poly p = 2 SVM is:\")\n",
        "print(SVM_matrix)"
      ]
    },
    {
      "cell_type": "code",
      "execution_count": null,
      "id": "c6be7696",
      "metadata": {
        "colab": {
          "base_uri": "https://localhost:8080/",
          "height": 556
        },
        "id": "c6be7696",
        "outputId": "59fbefdb-d3f6-49a8-992d-f272052b46bb"
      },
      "outputs": [
        {
          "output_type": "stream",
          "name": "stdout",
          "text": [
            "\n",
            "The accurary is: 0.5909090909090909\n",
            "\n"
          ]
        },
        {
          "output_type": "display_data",
          "data": {
            "text/plain": [
              "<Figure size 1800x1500 with 0 Axes>"
            ]
          },
          "metadata": {}
        },
        {
          "output_type": "display_data",
          "data": {
            "text/plain": [
              "<Figure size 640x480 with 2 Axes>"
            ],
            "image/png": "[encoded data removed]"
          },
          "metadata": {}
        }
      ],
      "source": [
        "y_pred = SVM_Model3.predict(X_test)\n",
        "acc = accuracy_score(y_test, y_pred)\n",
        "print(f\"\\nThe accurary is: {acc}\\n\")\n",
        "\n",
        "disp = ConfusionMatrixDisplay(confusion_matrix=SVM_matrix, display_labels=SVM_Model3.classes_)\n",
        "plt.figure(figsize=(18, 15))\n",
        "disp.plot(cmap='magma')\n",
        "plt.title(\"Confusion Matrix:\")\n",
        "plt.tight_layout()\n",
        "plt.show()"
      ]
    },
    {
      "cell_type": "code",
      "execution_count": null,
      "id": "845695f4",
      "metadata": {
        "id": "845695f4"
      },
      "outputs": [],
      "source": [
        "from imblearn.over_sampling import SMOTE\n",
        "\n",
        "smote = SMOTE(sampling_strategy='minority')\n",
        "X, y = smote.fit_resample(X, y)"
      ]
    },
    {
      "cell_type": "code",
      "execution_count": null,
      "id": "e7a1feed",
      "metadata": {
        "id": "e7a1feed"
      },
      "outputs": [],
      "source": [
        "X_train, X_test, y_train, y_test = train_test_split(X, y, test_size = 0.2, random_state = 42)"
      ]
    },
    {
      "cell_type": "code",
      "execution_count": null,
      "id": "a616b90f",
      "metadata": {
        "colab": {
          "base_uri": "https://localhost:8080/"
        },
        "id": "a616b90f",
        "outputId": "212577b8-8f07-4c61-e54d-5c51cb464fd5"
      },
      "outputs": [
        {
          "output_type": "stream",
          "name": "stdout",
          "text": [
            "\n",
            "The confusion matrix for Linear SVC C=50 is:\n",
            "[[ 49 233 189]\n",
            " [ 27 263 177]\n",
            " [ 16 205 271]]\n"
          ]
        },
        {
          "output_type": "stream",
          "name": "stderr",
          "text": [
            "/usr/local/lib/python3.10/dist-packages/sklearn/svm/_base.py:1244: ConvergenceWarning: Liblinear failed to converge, increase the number of iterations.\n",
            "  warnings.warn(\n"
          ]
        }
      ],
      "source": [
        "SVM_Model1=LinearSVC(C=50)\n",
        "SVM_Model1.fit(X_train, y_train)\n",
        "\n",
        "#print(\"SVM prediction:\\n\", SVM_Model1.predict(TEST))\n",
        "#print(\"Actual:\")\n",
        "#print(TEST_Labels)\n",
        "\n",
        "SVM_matrix = confusion_matrix(y_test, SVM_Model1.predict(X_test))\n",
        "print(\"\\nThe confusion matrix for Linear SVC C=50 is:\")\n",
        "print(SVM_matrix)"
      ]
    },
    {
      "cell_type": "code",
      "execution_count": null,
      "id": "093e3771",
      "metadata": {
        "colab": {
          "base_uri": "https://localhost:8080/",
          "height": 556
        },
        "id": "093e3771",
        "outputId": "d8b9ae4f-2ff9-4d2a-b7d7-1632e7690521"
      },
      "outputs": [
        {
          "output_type": "stream",
          "name": "stdout",
          "text": [
            "\n",
            "The accurary is: 0.4076923076923077\n",
            "\n"
          ]
        },
        {
          "output_type": "display_data",
          "data": {
            "text/plain": [
              "<Figure size 1800x1500 with 0 Axes>"
            ]
          },
          "metadata": {}
        },
        {
          "output_type": "display_data",
          "data": {
            "text/plain": [
              "<Figure size 640x480 with 2 Axes>"
            ],
            "image/png": "[encoded data removed]"
          },
          "metadata": {}
        }
      ],
      "source": [
        "from sklearn.metrics import ConfusionMatrixDisplay, accuracy_score\n",
        "\n",
        "y_pred = SVM_Model1.predict(X_test)\n",
        "acc = accuracy_score(y_test, y_pred)\n",
        "print(f\"\\nThe accurary is: {acc}\\n\")\n",
        "\n",
        "disp = ConfusionMatrixDisplay(confusion_matrix=SVM_matrix, display_labels=SVM_Model1.classes_)\n",
        "plt.figure(figsize=(18, 15))\n",
        "disp.plot(cmap='magma')\n",
        "plt.title(\"Confusion Matrix:\")\n",
        "plt.tight_layout()\n",
        "plt.show()"
      ]
    },
    {
      "cell_type": "code",
      "execution_count": null,
      "id": "fe6cde4e",
      "metadata": {
        "colab": {
          "base_uri": "https://localhost:8080/"
        },
        "id": "fe6cde4e",
        "outputId": "fa52ce20-8165-4ecf-eaa1-4141bbe6bae5"
      },
      "outputs": [
        {
          "output_type": "stream",
          "name": "stdout",
          "text": [
            "\n",
            "The confusion matrix for rbf SVM is:\n",
            "[[376  79  16]\n",
            " [ 58 308 101]\n",
            " [ 19  81 392]]\n"
          ]
        }
      ],
      "source": [
        "## RBF\n",
        "SVM_Model2=sklearn.svm.SVC(C=1.0, kernel='rbf', degree=3, gamma=\"auto\")\n",
        "SVM_Model2.fit(X_train, y_train)\n",
        "\n",
        "#print(\"SVM prediction:\\n\", SVM_Model1.predict(TEST))\n",
        "#print(\"Actual:\")\n",
        "#print(TEST_Labels)\n",
        "\n",
        "SVM_matrix = confusion_matrix(y_test, SVM_Model2.predict(X_test))\n",
        "print(\"\\nThe confusion matrix for rbf SVM is:\")\n",
        "print(SVM_matrix)"
      ]
    },
    {
      "cell_type": "code",
      "execution_count": null,
      "id": "43708ee7",
      "metadata": {
        "colab": {
          "base_uri": "https://localhost:8080/",
          "height": 556
        },
        "id": "43708ee7",
        "outputId": "fe921dbb-4ac1-447a-97ff-b986209cb2a4"
      },
      "outputs": [
        {
          "output_type": "stream",
          "name": "stdout",
          "text": [
            "\n",
            "The accurary is: 0.7524475524475525\n",
            "\n"
          ]
        },
        {
          "output_type": "display_data",
          "data": {
            "text/plain": [
              "<Figure size 1800x1500 with 0 Axes>"
            ]
          },
          "metadata": {}
        },
        {
          "output_type": "display_data",
          "data": {
            "text/plain": [
              "<Figure size 640x480 with 2 Axes>"
            ],
            "image/png": "[encoded data removed]"
          },
          "metadata": {}
        }
      ],
      "source": [
        "y_pred = SVM_Model2.predict(X_test)\n",
        "acc = accuracy_score(y_test, y_pred)\n",
        "print(f\"\\nThe accurary is: {acc}\\n\")\n",
        "\n",
        "disp = ConfusionMatrixDisplay(confusion_matrix=SVM_matrix, display_labels=SVM_Model2.classes_)\n",
        "plt.figure(figsize=(18, 15))\n",
        "disp.plot(cmap='magma')\n",
        "plt.title(\"Confusion Matrix:\")\n",
        "plt.tight_layout()\n",
        "plt.show()"
      ]
    },
    {
      "cell_type": "code",
      "execution_count": null,
      "id": "47190021",
      "metadata": {
        "colab": {
          "base_uri": "https://localhost:8080/"
        },
        "id": "47190021",
        "outputId": "9a1c6e8e-37eb-497c-f904-a6147eca3c14"
      },
      "outputs": [
        {
          "output_type": "stream",
          "name": "stdout",
          "text": [
            "\n",
            "The confusion matrix for poly p = 2 SVM is:\n",
            "[[296  99  76]\n",
            " [100 202 165]\n",
            " [ 41 104 347]]\n"
          ]
        }
      ],
      "source": [
        "## POLY\n",
        "SVM_Model3=sklearn.svm.SVC(C=1.0, kernel='poly', degree=2, gamma=\"auto\")\n",
        "SVM_Model3.fit(X_train, y_train)\n",
        "\n",
        "#print(\"SVM prediction:\\n\", SVM_Model1.predict(TEST))\n",
        "#print(\"Actual:\")\n",
        "#print(TEST_Labels)\n",
        "\n",
        "SVM_matrix = confusion_matrix(y_test, SVM_Model3.predict(X_test))\n",
        "print(\"\\nThe confusion matrix for poly p = 2 SVM is:\")\n",
        "print(SVM_matrix)"
      ]
    },
    {
      "cell_type": "code",
      "execution_count": null,
      "id": "3b256ba5",
      "metadata": {
        "colab": {
          "base_uri": "https://localhost:8080/",
          "height": 556
        },
        "id": "3b256ba5",
        "outputId": "c916759e-f866-45c9-f374-3d417d41cae2"
      },
      "outputs": [
        {
          "output_type": "stream",
          "name": "stdout",
          "text": [
            "\n",
            "The accurary is: 0.5909090909090909\n",
            "\n"
          ]
        },
        {
          "output_type": "display_data",
          "data": {
            "text/plain": [
              "<Figure size 1800x1500 with 0 Axes>"
            ]
          },
          "metadata": {}
        },
        {
          "output_type": "display_data",
          "data": {
            "text/plain": [
              "<Figure size 640x480 with 2 Axes>"
            ],
            "image/png": "[encoded data removed]"
          },
          "metadata": {}
        }
      ],
      "source": [
        "y_pred = SVM_Model3.predict(X_test)\n",
        "acc = accuracy_score(y_test, y_pred)\n",
        "print(f\"\\nThe accurary is: {acc}\\n\")\n",
        "\n",
        "disp = ConfusionMatrixDisplay(confusion_matrix=SVM_matrix, display_labels=SVM_Model3.classes_)\n",
        "plt.figure(figsize=(18, 15))\n",
        "disp.plot(cmap='magma')\n",
        "plt.title(\"Confusion Matrix:\")\n",
        "plt.tight_layout()\n",
        "plt.show()"
      ]
    },
    {
      "cell_type": "code",
      "execution_count": null,
      "id": "d898c60e",
      "metadata": {
        "id": "d898c60e"
      },
      "outputs": [],
      "source": [
        "sampled_df = labeled_df.sample(n=2500, random_state=42)"
      ]
    },
    {
      "cell_type": "code",
      "execution_count": null,
      "id": "9b2a31e2",
      "metadata": {
        "id": "9b2a31e2"
      },
      "outputs": [],
      "source": [
        "from imblearn.over_sampling import RandomOverSampler\n",
        "\n",
        "ros = RandomOverSampler()\n",
        "X, y = ros.fit_resample(X, y)"
      ]
    },
    {
      "cell_type": "code",
      "execution_count": null,
      "id": "42f48e02",
      "metadata": {
        "id": "42f48e02"
      },
      "outputs": [],
      "source": [
        "X = sampled_df.drop(['label', 'score'], axis = 1)\n",
        "y = sampled_df['label']"
      ]
    },
    {
      "cell_type": "code",
      "execution_count": null,
      "id": "5b6777b9",
      "metadata": {
        "id": "5b6777b9"
      },
      "outputs": [],
      "source": [
        "X_train, X_test, y_train, y_test = train_test_split(X, y, test_size = 0.2, random_state = 42)"
      ]
    },
    {
      "cell_type": "code",
      "execution_count": null,
      "id": "546d084b",
      "metadata": {
        "colab": {
          "base_uri": "https://localhost:8080/"
        },
        "id": "546d084b",
        "outputId": "c0f82190-ed0b-4aeb-f2a7-3cdf4ab43f3b"
      },
      "outputs": [
        {
          "output_type": "stream",
          "name": "stdout",
          "text": [
            "\n",
            "The confusion matrix for Linear SVC C=50 is:\n",
            "[[ 31  14  51]\n",
            " [ 33  72 181]\n",
            " [  1  30  87]]\n"
          ]
        },
        {
          "output_type": "stream",
          "name": "stderr",
          "text": [
            "/usr/local/lib/python3.10/dist-packages/sklearn/svm/_base.py:1244: ConvergenceWarning: Liblinear failed to converge, increase the number of iterations.\n",
            "  warnings.warn(\n"
          ]
        }
      ],
      "source": [
        "SVM_Model1=LinearSVC(C=50)\n",
        "SVM_Model1.fit(X_train, y_train)\n",
        "\n",
        "#print(\"SVM prediction:\\n\", SVM_Model1.predict(TEST))\n",
        "#print(\"Actual:\")\n",
        "#print(TEST_Labels)\n",
        "\n",
        "SVM_matrix = confusion_matrix(y_test, SVM_Model1.predict(X_test))\n",
        "print(\"\\nThe confusion matrix for Linear SVC C=50 is:\")\n",
        "print(SVM_matrix)"
      ]
    },
    {
      "cell_type": "code",
      "execution_count": null,
      "id": "8b79ca8e",
      "metadata": {
        "colab": {
          "base_uri": "https://localhost:8080/",
          "height": 556
        },
        "id": "8b79ca8e",
        "outputId": "d5528bab-0852-4b7b-a681-4a3d3b63aaec"
      },
      "outputs": [
        {
          "output_type": "stream",
          "name": "stdout",
          "text": [
            "\n",
            "The accurary is: 0.38\n",
            "\n"
          ]
        },
        {
          "output_type": "display_data",
          "data": {
            "text/plain": [
              "<Figure size 1800x1500 with 0 Axes>"
            ]
          },
          "metadata": {}
        },
        {
          "output_type": "display_data",
          "data": {
            "text/plain": [
              "<Figure size 640x480 with 2 Axes>"
            ],
            "image/png": "[encoded data removed]"
          },
          "metadata": {}
        }
      ],
      "source": [
        "from sklearn.metrics import ConfusionMatrixDisplay, accuracy_score\n",
        "\n",
        "y_pred = SVM_Model1.predict(X_test)\n",
        "acc = accuracy_score(y_test, y_pred)\n",
        "print(f\"\\nThe accurary is: {acc}\\n\")\n",
        "\n",
        "disp = ConfusionMatrixDisplay(confusion_matrix=SVM_matrix, display_labels=SVM_Model1.classes_)\n",
        "plt.figure(figsize=(18, 15))\n",
        "disp.plot(cmap='magma')\n",
        "plt.title(\"Confusion Matrix:\")\n",
        "plt.tight_layout()\n",
        "plt.show()"
      ]
    },
    {
      "cell_type": "code",
      "execution_count": null,
      "id": "4c0615a2",
      "metadata": {
        "colab": {
          "base_uri": "https://localhost:8080/"
        },
        "id": "4c0615a2",
        "outputId": "33ec7b8d-88fe-4f17-a918-81a0bcdc35b8"
      },
      "outputs": [
        {
          "output_type": "stream",
          "name": "stdout",
          "text": [
            "\n",
            "The confusion matrix for rbf SVM is:\n",
            "[[ 14  80   2]\n",
            " [  5 265  16]\n",
            " [  2  93  23]]\n"
          ]
        }
      ],
      "source": [
        "## RBF\n",
        "SVM_Model2=sklearn.svm.SVC(C=1.0, kernel='rbf', degree=3, gamma=\"auto\")\n",
        "SVM_Model2.fit(X_train, y_train)\n",
        "\n",
        "#print(\"SVM prediction:\\n\", SVM_Model1.predict(TEST))\n",
        "#print(\"Actual:\")\n",
        "#print(TEST_Labels)\n",
        "\n",
        "SVM_matrix = confusion_matrix(y_test, SVM_Model2.predict(X_test))\n",
        "print(\"\\nThe confusion matrix for rbf SVM is:\")\n",
        "print(SVM_matrix)"
      ]
    },
    {
      "cell_type": "code",
      "execution_count": null,
      "id": "b060a26d",
      "metadata": {
        "colab": {
          "base_uri": "https://localhost:8080/",
          "height": 556
        },
        "id": "b060a26d",
        "outputId": "76d28ecc-62d7-4c06-de27-c355a4bbf747"
      },
      "outputs": [
        {
          "output_type": "stream",
          "name": "stdout",
          "text": [
            "\n",
            "The accurary is: 0.604\n",
            "\n"
          ]
        },
        {
          "output_type": "display_data",
          "data": {
            "text/plain": [
              "<Figure size 1800x1500 with 0 Axes>"
            ]
          },
          "metadata": {}
        },
        {
          "output_type": "display_data",
          "data": {
            "text/plain": [
              "<Figure size 640x480 with 2 Axes>"
            ],
            "image/png": "[encoded data removed]"
          },
          "metadata": {}
        }
      ],
      "source": [
        "y_pred = SVM_Model2.predict(X_test)\n",
        "acc = accuracy_score(y_test, y_pred)\n",
        "print(f\"\\nThe accurary is: {acc}\\n\")\n",
        "\n",
        "disp = ConfusionMatrixDisplay(confusion_matrix=SVM_matrix, display_labels=SVM_Model2.classes_)\n",
        "plt.figure(figsize=(18, 15))\n",
        "disp.plot(cmap='magma')\n",
        "plt.title(\"Confusion Matrix:\")\n",
        "plt.tight_layout()\n",
        "plt.show()"
      ]
    },
    {
      "cell_type": "code",
      "execution_count": null,
      "id": "8b2eb20f",
      "metadata": {
        "colab": {
          "base_uri": "https://localhost:8080/"
        },
        "id": "8b2eb20f",
        "outputId": "ff9401db-e09c-451c-8ac8-c9baa708c9f6"
      },
      "outputs": [
        {
          "output_type": "stream",
          "name": "stdout",
          "text": [
            "\n",
            "The confusion matrix for poly p = 2 SVM is:\n",
            "[[ 22  74   0]\n",
            " [  8 278   0]\n",
            " [  2 115   1]]\n"
          ]
        }
      ],
      "source": [
        "## POLY\n",
        "SVM_Model3=sklearn.svm.SVC(C=1.0, kernel='poly', degree=2, gamma=\"auto\")\n",
        "SVM_Model3.fit(X_train, y_train)\n",
        "\n",
        "#print(\"SVM prediction:\\n\", SVM_Model1.predict(TEST))\n",
        "#print(\"Actual:\")\n",
        "#print(TEST_Labels)\n",
        "\n",
        "SVM_matrix = confusion_matrix(y_test, SVM_Model3.predict(X_test))\n",
        "print(\"\\nThe confusion matrix for poly p = 2 SVM is:\")\n",
        "print(SVM_matrix)"
      ]
    },
    {
      "cell_type": "code",
      "execution_count": null,
      "id": "a2a12256",
      "metadata": {
        "colab": {
          "base_uri": "https://localhost:8080/",
          "height": 556
        },
        "id": "a2a12256",
        "outputId": "e4b220a6-c56b-47d4-cede-fbe69b40de8b"
      },
      "outputs": [
        {
          "output_type": "stream",
          "name": "stdout",
          "text": [
            "\n",
            "The accurary is: 0.602\n",
            "\n"
          ]
        },
        {
          "output_type": "display_data",
          "data": {
            "text/plain": [
              "<Figure size 1800x1500 with 0 Axes>"
            ]
          },
          "metadata": {}
        },
        {
          "output_type": "display_data",
          "data": {
            "text/plain": [
              "<Figure size 640x480 with 2 Axes>"
            ],
            "image/png": "[encoded data removed]"
          },
          "metadata": {}
        }
      ],
      "source": [
        "y_pred = SVM_Model3.predict(X_test)\n",
        "acc = accuracy_score(y_test, y_pred)\n",
        "print(f\"\\nThe accurary is: {acc}\\n\")\n",
        "\n",
        "disp = ConfusionMatrixDisplay(confusion_matrix=SVM_matrix, display_labels=SVM_Model3.classes_)\n",
        "plt.figure(figsize=(18, 15))\n",
        "disp.plot(cmap='magma')\n",
        "plt.title(\"Confusion Matrix:\")\n",
        "plt.tight_layout()\n",
        "plt.show()"
      ]
    },
    {
      "cell_type": "code",
      "execution_count": null,
      "id": "131a9e36",
      "metadata": {
        "id": "131a9e36"
      },
      "outputs": [],
      "source": []
    }
  ],
  "metadata": {
    "kernelspec": {
      "display_name": "Python 3 (ipykernel)",
      "language": "python",
      "name": "python3"
    },
    "language_info": {
      "codemirror_mode": {
        "name": "ipython",
        "version": 3
      },
      "file_extension": ".py",
      "mimetype": "text/x-python",
      "name": "python",
      "nbconvert_exporter": "python",
      "pygments_lexer": "ipython3",
      "version": "3.9.13"
    },
    "colab": {
      "provenance": []
    }
  },
  "nbformat": 4,
  "nbformat_minor": 5
}